{
 "cells": [
  {
   "cell_type": "code",
   "execution_count": null,
   "metadata": {},
   "outputs": [],
   "source": [
    "using Markdown #hide"
   ]
  },
  {
   "cell_type": "markdown",
   "metadata": {},
   "source": [
    "# Three-site simple update for the $J_1$-$J_2$ model\n",
    "\n",
    "In this example, we will use `SimpleUpdate` imaginary time evolution to treat\n",
    "the two-dimensional $J_1$-$J_2$ model, which contains next-nearest-neighbour interactions:\n",
    "\n",
    "$$\n",
    "H = J_1 \\sum_{\\langle i,j \\rangle} \\mathbf{S}_i \\cdot \\mathbf{S}_j\n",
    "+ J_2 \\sum_{\\langle \\langle i,j \\rangle \\rangle} \\mathbf{S}_i \\cdot \\mathbf{S}_j\n",
    "$$\n",
    "\n",
    "Here we will exploit the $U(1)$ spin rotation symmetry in the $J_1$-$J_2$ model. The goal\n",
    "will be to calculate the energy at $J_1 = 1$ and $J_2 = 1/2$, first using the simple update\n",
    "algorithm and then, to refine the energy estimate, using AD-based variational PEPS\n",
    "optimization.\n",
    "\n",
    "We first import all required modules and seed the RNG:"
   ]
  },
  {
   "cell_type": "code",
   "execution_count": null,
   "metadata": {},
   "outputs": [],
   "source": [
    "using Random\n",
    "using TensorKit, PEPSKit\n",
    "Random.seed!(29385293);"
   ]
  },
  {
   "cell_type": "markdown",
   "metadata": {},
   "source": [
    "## Simple updating a challenging phase\n",
    "\n",
    "Let's start by initializing an `InfinitePEPS` for which we set the required parameters\n",
    "as well as physical and virtual vector spaces.\n",
    "The `SUWeight` used by simple update will be initialized to identity matrices.\n",
    "We use the minimal unit cell size ($2 \\times 2$) required by the simple update algorithm\n",
    "for Hamiltonians with next-nearest-neighbour interactions:"
   ]
  },
  {
   "cell_type": "code",
   "execution_count": null,
   "metadata": {},
   "outputs": [],
   "source": [
    "Dbond, symm = 4, U1Irrep\n",
    "Nr, Nc, J1 = 2, 2, 1.0\n",
    "\n",
    "# random initialization of 2x2 iPEPS (using real numbers) and SUWeight\n",
    "Pspace = Vect[U1Irrep](1 // 2 => 1, -1 // 2 => 1)\n",
    "Vspace = Vect[U1Irrep](0 => 2, 1 // 2 => 1, -1 // 2 => 1)\n",
    "peps = InfinitePEPS(rand, Float64, Pspace, Vspace; unitcell = (Nr, Nc));\n",
    "wts = SUWeight(peps);"
   ]
  },
  {
   "cell_type": "markdown",
   "metadata": {},
   "source": [
    "The value $J_2 / J_1 = 0.5$ corresponds to a [possible spin liquid phase](@cite liu_gapless_2022),\n",
    "which is challenging for SU to produce a relatively good state from random initialization.\n",
    "Therefore, we shall gradually increase $J_2 / J_1$ from 0.1 to 0.5, each time initializing\n",
    "on the previously evolved PEPS:"
   ]
  },
  {
   "cell_type": "code",
   "execution_count": null,
   "metadata": {},
   "outputs": [],
   "source": [
    "dt, tol, maxiter = 1.0e-2, 1.0e-8, 30000\n",
    "check_interval = 4000\n",
    "trscheme_peps = truncerror(; atol=1.0e-10) & truncrank(Dbond)\n",
    "alg = SimpleUpdate(dt, tol, maxiter, trscheme_peps)\n",
    "for J2 in 0.1:0.1:0.5\n",
    "    H = real( ## convert Hamiltonian `LocalOperator` to real floats\n",
    "        j1_j2_model(ComplexF64, symm, InfiniteSquare(Nr, Nc); J1, J2, sublattice = false),\n",
    "    )\n",
    "    global peps, wts, = simpleupdate(peps, H, alg, wts; check_interval)\n",
    "end"
   ]
  },
  {
   "cell_type": "markdown",
   "metadata": {},
   "source": [
    "After we reach $J_2 / J_1 = 0.5$, we gradually decrease the evolution time step to obtain\n",
    "a more accurately evolved PEPS:"
   ]
  },
  {
   "cell_type": "code",
   "execution_count": null,
   "metadata": {},
   "outputs": [],
   "source": [
    "dts = [1.0e-3, 1.0e-4]\n",
    "tols = [1.0e-9, 1.0e-9]\n",
    "J2 = 0.5\n",
    "H = real(j1_j2_model(ComplexF64, symm, InfiniteSquare(Nr, Nc); J1, J2, sublattice = false))\n",
    "for (dt, tol) in zip(dts, tols)\n",
    "    alg′ = SimpleUpdate(dt, tol, maxiter, trscheme_peps)\n",
    "    global peps, wts, = simpleupdate(peps, H, alg′, wts; check_interval)\n",
    "end"
   ]
  },
  {
   "cell_type": "markdown",
   "metadata": {},
   "source": [
    "## Computing the simple update energy estimate\n",
    "\n",
    "Finally, we measure the ground-state energy by converging a CTMRG environment and computing\n",
    "the expectation value, where we first normalize tensors in the PEPS:"
   ]
  },
  {
   "cell_type": "code",
   "execution_count": null,
   "metadata": {},
   "outputs": [],
   "source": [
    "normalize!.(peps.A, Inf) ## normalize each PEPS tensor by largest element\n",
    "χenv = 32\n",
    "trscheme_env = truncerror(; atol=1.0e-10) & truncrank(χenv)\n",
    "Espace = Vect[U1Irrep](0 => χenv ÷ 2, 1 // 2 => χenv ÷ 4, -1 // 2 => χenv ÷ 4)\n",
    "env₀ = CTMRGEnv(rand, Float64, peps, Espace)\n",
    "env, = leading_boundary(env₀, peps; tol = 1.0e-10, alg = :sequential, trscheme = trscheme_env);\n",
    "E = expectation_value(peps, H, env) / (Nr * Nc)"
   ]
  },
  {
   "cell_type": "markdown",
   "metadata": {},
   "source": [
    "Let us compare that estimate with benchmark data obtained from the\n",
    "[YASTN/peps-torch package](https://github.com/jurajHasik/j1j2_ipeps_states/blob/ea4140fbd7da0fc1b75fac2871f75bda125189a8/single-site_pg-C4v-A1_internal-U1/j20.5/state_1s_A1_U1B_j20.5_D4_chi_opt96.dat).\n",
    "which utilizes AD-based PEPS optimization to find $E_\\text{ref}=-0.49425$:"
   ]
  },
  {
   "cell_type": "code",
   "execution_count": null,
   "metadata": {},
   "outputs": [],
   "source": [
    "E_ref = -0.49425\n",
    "@show (E - E_ref) / abs(E_ref);"
   ]
  },
  {
   "cell_type": "markdown",
   "metadata": {},
   "source": [
    "## Variational PEPS optimization using AD\n",
    "\n",
    "As a last step, we will use the SU-evolved PEPS as a starting point for a `fixedpoint`\n",
    "PEPS optimization. Note that we could have also used a sublattice-rotated version of `H` to\n",
    "fit the Hamiltonian onto a single-site unit cell which would require us to optimize fewer\n",
    "parameters and hence lead to a faster optimization. But here we instead take advantage of\n",
    "the already evolved `peps`, thus giving us a physical initial guess for the optimization.\n",
    "In order to break some of the $C_{4v}$ symmetry of the PEPS, we will add a bit of noise to it\n",
    "- this is conviently done using MPSKit's `randomize!` function. (Breaking some of the spatial\n",
    "symmetry can be advantageous for obtaining lower energies.)"
   ]
  },
  {
   "cell_type": "code",
   "execution_count": null,
   "metadata": {},
   "outputs": [],
   "source": [
    "using MPSKit: randomize!\n",
    "\n",
    "noise_peps = InfinitePEPS(randomize!.(deepcopy(peps.A)))\n",
    "peps₀ = peps + 1.0e-1noise_peps\n",
    "peps_opt, env_opt, E_opt, = fixedpoint(\n",
    "    H, peps₀, env; optimizer_alg = (; tol = 1.0e-4, maxiter = 80)\n",
    ");"
   ]
  },
  {
   "cell_type": "markdown",
   "metadata": {},
   "source": [
    "Finally, we compare the variationally optimized energy against the reference energy. Indeed,\n",
    "we find that the additional AD-based optimization improves the SU-evolved PEPS and leads to\n",
    "a more accurate energy estimate."
   ]
  },
  {
   "cell_type": "code",
   "execution_count": null,
   "metadata": {},
   "outputs": [],
   "source": [
    "E_opt /= (Nr * Nc)\n",
    "@show E_opt\n",
    "@show (E_opt - E_ref) / abs(E_ref);"
   ]
  },
  {
   "cell_type": "markdown",
   "metadata": {},
   "source": [
    "---\n",
    "\n",
    "*This notebook was generated using [Literate.jl](https://github.com/fredrikekre/Literate.jl).*"
   ]
  }
 ],
 "metadata": {
  "kernelspec": {
   "display_name": "Julia 1.11.5",
   "language": "julia",
   "name": "julia-1.11"
  },
  "language_info": {
   "file_extension": ".jl",
   "mimetype": "application/julia",
   "name": "julia",
   "version": "1.11.5"
  }
 },
 "nbformat": 4,
 "nbformat_minor": 3
}
