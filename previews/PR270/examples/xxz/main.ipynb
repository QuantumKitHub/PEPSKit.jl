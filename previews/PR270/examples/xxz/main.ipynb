{
 "cells": [
  {
   "cell_type": "code",
   "execution_count": null,
   "metadata": {},
   "outputs": [],
   "source": [
    "using Markdown #hide"
   ]
  },
  {
   "cell_type": "markdown",
   "metadata": {},
   "source": [
    "# Néel order in the $U(1)$-symmetric XXZ model\n",
    "\n",
    "Here, we want to look at a special case of the Heisenberg model, where the $x$ and $y$\n",
    "couplings are equal, called the XXZ model\n",
    "\n",
    "$$\n",
    "H_0 = J \\big(\\sum_{\\langle i, j \\rangle} S_i^x S_j^x + S_i^y S_j^y + \\Delta S_i^z S_j^z \\big) .\n",
    "$$\n",
    "\n",
    "For appropriate $\\Delta$, the model enters an antiferromagnetic phase (Néel order) which we\n",
    "will force by adding staggered magnetic charges to $H_0$. Furthermore, since the XXZ\n",
    "Hamiltonian obeys a $U(1)$ symmetry, we will make use of that and work with $U(1)$-symmetric\n",
    "PEPS and CTMRG environments. For simplicity, we will consider spin-$1/2$ operators.\n",
    "\n",
    "But first, let's make this example deterministic and import the required packages:"
   ]
  },
  {
   "cell_type": "code",
   "execution_count": null,
   "metadata": {},
   "outputs": [],
   "source": [
    "using Random\n",
    "using TensorKit, PEPSKit\n",
    "using MPSKit: add_physical_charge\n",
    "Random.seed!(2928528935);"
   ]
  },
  {
   "cell_type": "markdown",
   "metadata": {},
   "source": [
    "## Constructing the model\n",
    "\n",
    "Let us define the $U(1)$-symmetric XXZ Hamiltonian on a $2 \\times 2$ unit cell with the\n",
    "parameters:"
   ]
  },
  {
   "cell_type": "code",
   "execution_count": null,
   "metadata": {},
   "outputs": [],
   "source": [
    "J = 1.0\n",
    "Delta = 1.0\n",
    "spin = 1 // 2\n",
    "symmetry = U1Irrep\n",
    "lattice = InfiniteSquare(2, 2)\n",
    "H₀ = heisenberg_XXZ(ComplexF64, symmetry, lattice; J, Delta, spin);"
   ]
  },
  {
   "cell_type": "markdown",
   "metadata": {},
   "source": [
    "This ensures that our PEPS ansatz can support the bipartite Néel order. As discussed above,\n",
    "we encode the Néel order directly in the ansatz by adding staggered auxiliary physical\n",
    "charges:"
   ]
  },
  {
   "cell_type": "code",
   "execution_count": null,
   "metadata": {},
   "outputs": [],
   "source": [
    "S_aux = [\n",
    "    U1Irrep(-1 // 2) U1Irrep(1 // 2)\n",
    "    U1Irrep(1 // 2) U1Irrep(-1 // 2)\n",
    "]\n",
    "H = add_physical_charge(H₀, S_aux);"
   ]
  },
  {
   "cell_type": "markdown",
   "metadata": {},
   "source": [
    "## Specifying the symmetric virtual spaces\n",
    "\n",
    "Before we create an initial PEPS and CTM environment, we need to think about which\n",
    "symmetric spaces we need to construct. Since we want to exploit the global $U(1)$ symmetry\n",
    "of the model, we will use TensorKit's `U1Space`s where we specify dimensions for each\n",
    "symmetry sector. From the virtual spaces, we will need to construct a unit cell (a matrix)\n",
    "of spaces which will be supplied to the PEPS constructor. The same is true for the physical\n",
    "spaces, which can be extracted directly from the Hamiltonian `LocalOperator`:"
   ]
  },
  {
   "cell_type": "code",
   "execution_count": null,
   "metadata": {},
   "outputs": [],
   "source": [
    "V_peps = U1Space(0 => 2, 1 => 1, -1 => 1)\n",
    "V_env = U1Space(0 => 6, 1 => 4, -1 => 4, 2 => 2, -2 => 2)\n",
    "virtual_spaces = fill(V_peps, size(lattice)...)\n",
    "physical_spaces = physicalspace(H)"
   ]
  },
  {
   "cell_type": "markdown",
   "metadata": {},
   "source": [
    "## Ground state search\n",
    "\n",
    "From this point onwards it's business as usual: Create an initial PEPS and environment\n",
    "(using the symmetric spaces), specify the algorithmic parameters and optimize:"
   ]
  },
  {
   "cell_type": "code",
   "execution_count": null,
   "metadata": {},
   "outputs": [],
   "source": [
    "boundary_alg = (; tol = 1.0e-8, alg = :simultaneous, trunc = (; alg = :fixedspace))\n",
    "gradient_alg = (; tol = 1.0e-6, alg = :eigsolver, maxiter = 10, iterscheme = :diffgauge)\n",
    "optimizer_alg = (; tol = 1.0e-4, alg = :lbfgs, maxiter = 85, ls_maxiter = 3, ls_maxfg = 3)\n",
    "\n",
    "peps₀ = InfinitePEPS(randn, ComplexF64, physical_spaces, virtual_spaces)\n",
    "env₀, = leading_boundary(CTMRGEnv(peps₀, V_env), peps₀; boundary_alg...);"
   ]
  },
  {
   "cell_type": "markdown",
   "metadata": {},
   "source": [
    "Finally, we can optimize the PEPS with respect to the XXZ Hamiltonian and check the\n",
    "resulting ground state energy per site using our $(2 \\times 2)$ unit cell. Note that the\n",
    "optimization might take a while since precompilation of symmetric AD code takes longer and\n",
    "because symmetric tensors do create a bit of overhead (which does pay off at larger bond and\n",
    "environment dimensions):"
   ]
  },
  {
   "cell_type": "code",
   "execution_count": null,
   "metadata": {},
   "outputs": [],
   "source": [
    "peps, env, E, info = fixedpoint(\n",
    "    H, peps₀, env₀; boundary_alg, gradient_alg, optimizer_alg, verbosity = 3\n",
    ")\n",
    "@show E / prod(size(lattice));"
   ]
  },
  {
   "cell_type": "markdown",
   "metadata": {},
   "source": [
    "Note that for the specified parameters $J = \\Delta = 1$, we simulated the same Hamiltonian\n",
    "as in the Heisenberg example. In that example, with a\n",
    "non-symmetric $D=2$ PEPS simulation, we reached a ground-state energy per site of around\n",
    "$E_\\text{D=2} = -0.6625\\dots$. Again comparing against [Sandvik's](@cite\n",
    "sandvik_computational_2011) accurate QMC estimate $E_{\\text{ref}}=−0.6694421$, we see that\n",
    "we already got closer to the reference energy."
   ]
  },
  {
   "cell_type": "markdown",
   "metadata": {},
   "source": [
    "---\n",
    "\n",
    "*This notebook was generated using [Literate.jl](https://github.com/fredrikekre/Literate.jl).*"
   ]
  }
 ],
 "metadata": {
  "kernelspec": {
   "display_name": "Julia 1.11.7",
   "language": "julia",
   "name": "julia-1.11"
  },
  "language_info": {
   "file_extension": ".jl",
   "mimetype": "application/julia",
   "name": "julia",
   "version": "1.11.7"
  }
 },
 "nbformat": 4,
 "nbformat_minor": 3
}
