{
 "cells": [
  {
   "outputs": [],
   "cell_type": "code",
   "source": [
    "using Markdown #hide"
   ],
   "metadata": {},
   "execution_count": null
  },
  {
   "cell_type": "markdown",
   "source": [
    "# Fermi-Hubbard model with $f\\mathbb{Z}_2 \\boxtimes U(1)$ symmetry, at large $U$ and half-filling\n",
    "\n",
    "In this example, we will demonstrate how to handle fermionic PEPS tensors and how to\n",
    "optimize them. To that end, we consider the two-dimensional Hubbard model\n",
    "\n",
    "$$\n",
    "H = -t \\sum_{\\langle i,j \\rangle} \\sum_{\\sigma} \\left( c_{i,\\sigma}^+ c_{j,\\sigma}^- -\n",
    "c_{i,\\sigma}^- c_{j,\\sigma}^+ \\right) + U \\sum_i n_{i,\\uparrow}n_{i,\\downarrow} - \\mu \\sum_i n_i\n",
    "$$\n",
    "\n",
    "where $\\sigma \\in \\{\\uparrow,\\downarrow\\}$ and $n_{i,\\sigma} = c_{i,\\sigma}^+ c_{i,\\sigma}^-$\n",
    "is the fermionic number operator. As in previous examples, using fermionic degrees of freedom\n",
    "is a matter of creating tensors with the right symmetry sectors - the rest of the simulation\n",
    "workflow remains the same.\n",
    "\n",
    "First though, we make the example deterministic by seeding the RNG, and we make our imports:"
   ],
   "metadata": {}
  },
  {
   "outputs": [],
   "cell_type": "code",
   "source": [
    "using Random\n",
    "using TensorKit, PEPSKit\n",
    "using MPSKit: add_physical_charge\n",
    "Random.seed!(2928528937);"
   ],
   "metadata": {},
   "execution_count": null
  },
  {
   "cell_type": "markdown",
   "source": [
    "## Defining the fermionic Hamiltonian\n",
    "\n",
    "Let us start by fixing the parameters of the Hubbard model. We're going to use a hopping of\n",
    "$t=1$ and a large $U=8$ on a $2 \\times 2$ unit cell:"
   ],
   "metadata": {}
  },
  {
   "outputs": [],
   "cell_type": "code",
   "source": [
    "t = 1.0\n",
    "U = 8.0\n",
    "lattice = InfiniteSquare(2, 2);"
   ],
   "metadata": {},
   "execution_count": null
  },
  {
   "cell_type": "markdown",
   "source": [
    "In order to create fermionic tensors, one needs to define symmetry sectors using TensorKit's\n",
    "`FermionParity`. Not only do we want use fermion parity but we also want our\n",
    "particles to exploit the global $U(1)$ symmetry. The combined product sector can be obtained\n",
    "using the [Deligne product](https://jutho.github.io/TensorKit.jl/stable/lib/sectors/#TensorKitSectors.deligneproduct-Tuple{Sector,%20Sector}),\n",
    "called through `⊠` which is obtained by typing `\\boxtimes+TAB`. We will not impose any extra\n",
    "spin symmetry, so we have:"
   ],
   "metadata": {}
  },
  {
   "outputs": [],
   "cell_type": "code",
   "source": [
    "fermion = fℤ₂\n",
    "particle_symmetry = U1Irrep\n",
    "spin_symmetry = Trivial\n",
    "S = fermion ⊠ particle_symmetry"
   ],
   "metadata": {},
   "execution_count": null
  },
  {
   "cell_type": "markdown",
   "source": [
    "The next step is defining graded virtual PEPS and environment spaces using `S`. Here we also\n",
    "use the symmetry sector to impose half-filling. That is all we need to define the Hubbard\n",
    "Hamiltonian:"
   ],
   "metadata": {}
  },
  {
   "outputs": [],
   "cell_type": "code",
   "source": [
    "D, χ = 1, 1\n",
    "V_peps = Vect[S]((0, 0) => 2 * D, (1, 1) => D, (1, -1) => D)\n",
    "V_env = Vect[S](\n",
    "    (0, 0) => 4 * χ, (1, -1) => 2 * χ, (1, 1) => 2 * χ, (0, 2) => χ, (0, -2) => χ\n",
    ")\n",
    "S_aux = S((1, -1))\n",
    "H₀ = hubbard_model(ComplexF64, particle_symmetry, spin_symmetry, lattice; t, U)\n",
    "H = add_physical_charge(H₀, fill(S_aux, size(H₀.lattice)...));"
   ],
   "metadata": {},
   "execution_count": null
  },
  {
   "cell_type": "markdown",
   "source": [
    "## Finding the ground state\n",
    "\n",
    "Again, the procedure of ground state optimization is very similar to before. First, we\n",
    "define all algorithmic parameters:"
   ],
   "metadata": {}
  },
  {
   "outputs": [],
   "cell_type": "code",
   "source": [
    "boundary_alg = (; tol=1e-8, alg=:simultaneous, trscheme=(; alg=:fixedspace))\n",
    "gradient_alg = (; tol=1e-6, alg=:eigsolver, maxiter=10, iterscheme=:diffgauge)\n",
    "optimizer_alg = (; tol=1e-4, alg=:lbfgs, maxiter=80, ls_maxiter=3, ls_maxfg=3)"
   ],
   "metadata": {},
   "execution_count": null
  },
  {
   "cell_type": "markdown",
   "source": [
    "Second, we initialize a PEPS state and environment (which we converge) constructed from\n",
    "symmetric physical and virtual spaces:"
   ],
   "metadata": {}
  },
  {
   "outputs": [],
   "cell_type": "code",
   "source": [
    "physical_spaces = physicalspace(H)\n",
    "virtual_spaces = fill(V_peps, size(lattice)...)\n",
    "peps₀ = InfinitePEPS(randn, ComplexF64, physical_spaces, virtual_spaces)\n",
    "env₀, = leading_boundary(CTMRGEnv(peps₀, V_env), peps₀; boundary_alg...);"
   ],
   "metadata": {},
   "execution_count": null
  },
  {
   "cell_type": "markdown",
   "source": [
    "And third, we start the ground state search (this does take quite long):"
   ],
   "metadata": {}
  },
  {
   "outputs": [],
   "cell_type": "code",
   "source": [
    "peps, env, E, info = fixedpoint(\n",
    "    H, peps₀, env₀; boundary_alg, gradient_alg, optimizer_alg, verbosity=3\n",
    ")\n",
    "@show E;"
   ],
   "metadata": {},
   "execution_count": null
  },
  {
   "cell_type": "markdown",
   "source": [
    "Finally, let's compare the obtained energy against a reference energy from a QMC study by\n",
    "[Qin et al.](@cite qin_benchmark_2016). With the parameters specified above, they obtain an\n",
    "energy of $E_\\text{ref} \\approx 4 \\times -0.5244140625 = -2.09765625$ (the factor 4 comes\n",
    "from the $2 \\times 2$ unit cell that we use here). Thus, we find:"
   ],
   "metadata": {}
  },
  {
   "outputs": [],
   "cell_type": "code",
   "source": [
    "E_ref = -2.09765625\n",
    "@show (E - E_ref) / E_ref;"
   ],
   "metadata": {},
   "execution_count": null
  },
  {
   "cell_type": "markdown",
   "source": [
    "---\n",
    "\n",
    "*This notebook was generated using [Literate.jl](https://github.com/fredrikekre/Literate.jl).*"
   ],
   "metadata": {}
  }
 ],
 "nbformat_minor": 3,
 "metadata": {
  "language_info": {
   "file_extension": ".jl",
   "mimetype": "application/julia",
   "name": "julia",
   "version": "1.11.4"
  },
  "kernelspec": {
   "name": "julia-1.11",
   "display_name": "Julia 1.11.4",
   "language": "julia"
  }
 },
 "nbformat": 4
}
