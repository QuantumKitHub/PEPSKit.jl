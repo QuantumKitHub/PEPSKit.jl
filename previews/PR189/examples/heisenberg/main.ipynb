{
 "cells": [
  {
   "outputs": [],
   "cell_type": "code",
   "source": [
    "using Markdown #hide"
   ],
   "metadata": {},
   "execution_count": null
  },
  {
   "cell_type": "markdown",
   "source": [
    "# Optimizing the 2D Heisenberg model\n",
    "\n",
    "In this example we want to provide a basic rundown of PEPSKit's optimization workflow for\n",
    "PEPS. To that end, we will consider the two-dimensional Heisenberg model on a square lattice\n",
    "\n",
    "$$\n",
    "H = \\sum_{\\langle i,j \\rangle} \\left ( J_x S^{x}_i S^{x}_j + J_y S^{y}_i S^{y}_j + J_z S^{z}_i S^{z}_j \\right )\n",
    "$$\n",
    "\n",
    "Here, we want to set $J_x = J_y = J_z = 1$ where the Heisenberg model is in the antiferromagnetic\n",
    "regime. Due to the bipartite sublattice structure of antiferromagnetic order one needs a\n",
    "PEPS ansatz with a $2 \\times 2$ unit cell. This can be circumvented by performing a unitary\n",
    "sublattice rotation on all B-sites resulting in a change of parameters to\n",
    "$(J_x, J_y, J_z)=(-1, 1, -1)$. This gives us a unitarily equivalent Hamiltonian (with the\n",
    "same spectrum) with a ground state on a single-site unit cell.\n",
    "\n",
    "Let us get started by fixing the random seed of this example to make it deterministic:"
   ],
   "metadata": {}
  },
  {
   "outputs": [],
   "cell_type": "code",
   "source": [
    "using Random\n",
    "Random.seed!(123456789);"
   ],
   "metadata": {},
   "execution_count": null
  },
  {
   "cell_type": "markdown",
   "source": [
    "We're going to need only two packages: `TensorKit`, since we use that for all the underlying\n",
    "tensor operations, and `PEPSKit` itself. So let us import these:"
   ],
   "metadata": {}
  },
  {
   "outputs": [],
   "cell_type": "code",
   "source": [
    "using TensorKit, PEPSKit"
   ],
   "metadata": {},
   "execution_count": null
  },
  {
   "cell_type": "markdown",
   "source": [
    "## Defining the Heisenberg Hamiltonian\n",
    "\n",
    "To create the sublattice rotated Heisenberg Hamiltonian on an infinite square lattice, we use\n",
    "the `heisenberg_XYZ` method from [MPSKitModels](https://quantumkithub.github.io/MPSKitModels.jl/dev/)\n",
    "which is redefined for the `InfiniteSquare` and reexported in PEPSKit:"
   ],
   "metadata": {}
  },
  {
   "outputs": [],
   "cell_type": "code",
   "source": [
    "H = heisenberg_XYZ(InfiniteSquare(); Jx=-1, Jy=1, Jz=-1)"
   ],
   "metadata": {},
   "execution_count": null
  },
  {
   "cell_type": "markdown",
   "source": [
    "## Setting up the algorithms and initial guesses\n",
    "\n",
    "Next, we set the simulation parameters. During optimization, the PEPS will be contracted\n",
    "using CTMRG and the PEPS gradient will be computed by differentiating through the CTMRG\n",
    "routine using AD. Since the algorithmic stack that implements this is rather elaborate,\n",
    "the amount of settings one can configure is also quite large. To reduce this complexity,\n",
    "PEPSKit defaults to (presumably) reasonable settings which also dynamically adapts to the\n",
    "user-specified parameters.\n",
    "\n",
    "First, we set the bond dimension `Dbond` of the virtual PEPS indices and the environment\n",
    "dimension `χenv` of the virtual corner and transfer matrix indices."
   ],
   "metadata": {}
  },
  {
   "outputs": [],
   "cell_type": "code",
   "source": [
    "Dbond = 2\n",
    "χenv = 16;"
   ],
   "metadata": {},
   "execution_count": null
  },
  {
   "cell_type": "markdown",
   "source": [
    "To configure the CTMRG algorithm, we create a `NamedTuple` containing different keyword\n",
    "arguments. To see a description of all arguments, see the docstring of\n",
    "`leading_boundary`. Here, we want to converge the CTMRG environments up to a\n",
    "specific tolerance and during the CTMRG run keep all index dimensions fixed:"
   ],
   "metadata": {}
  },
  {
   "outputs": [],
   "cell_type": "code",
   "source": [
    "boundary_alg = (; tol=1e-10, trscheme=(; alg=:fixedspace));"
   ],
   "metadata": {},
   "execution_count": null
  },
  {
   "cell_type": "markdown",
   "source": [
    "Let us also configure the optimizer algorithm. We are going to optimize the PEPS using the\n",
    "L-BFGS optimizer from [OptimKit](https://github.com/Jutho/OptimKit.jl). Again, we specify\n",
    "the convergence tolerance (for the gradient norm) as well as the maximal number of iterations\n",
    "and the BFGS memory size (which is used to approximate the Hessian):"
   ],
   "metadata": {}
  },
  {
   "outputs": [],
   "cell_type": "code",
   "source": [
    "optimizer_alg = (; alg=:lbfgs, tol=1e-4, maxiter=100, lbfgs_memory=16);"
   ],
   "metadata": {},
   "execution_count": null
  },
  {
   "cell_type": "markdown",
   "source": [
    "Additionally, during optimization, we want to reuse the previous CTMRG environment to\n",
    "initialize the CTMRG run of the current optimization step using the `reuse_env` argument.\n",
    "And to control the output information, we set the `verbosity`:"
   ],
   "metadata": {}
  },
  {
   "outputs": [],
   "cell_type": "code",
   "source": [
    "reuse_env = true\n",
    "verbosity = 3;"
   ],
   "metadata": {},
   "execution_count": null
  },
  {
   "cell_type": "markdown",
   "source": [
    "Next, we initialize a random PEPS which will be used as an initial guess for the\n",
    "optimization. To get a PEPS with physical dimension 2 (since we have a spin-1/2 Hamiltonian)\n",
    "with complex-valued random Gaussian entries, we set:"
   ],
   "metadata": {}
  },
  {
   "outputs": [],
   "cell_type": "code",
   "source": [
    "peps₀ = InfinitePEPS(randn, ComplexF64, 2, Dbond)"
   ],
   "metadata": {},
   "execution_count": null
  },
  {
   "cell_type": "markdown",
   "source": [
    "The last thing we need before we can start the optimization is an initial CTMRG environment.\n",
    "Typically, a random environment which we converge on `peps₀` serves as a good starting point.\n",
    "To contract a PEPS starting from an environment using CTMRG, we call `leading_boundary`:"
   ],
   "metadata": {}
  },
  {
   "outputs": [],
   "cell_type": "code",
   "source": [
    "env_random = CTMRGEnv(randn, ComplexF64, peps₀, ℂ^χenv);\n",
    "env₀, info_ctmrg = leading_boundary(env_random, peps₀; boundary_alg...);"
   ],
   "metadata": {},
   "execution_count": null
  },
  {
   "cell_type": "markdown",
   "source": [
    "Besides the converged environment, `leading_boundary` also returns a `NamedTuple` of\n",
    "informational quantities such as the last maximal truncation error - that is, the SVD\n",
    "approximation error incurred in the last CTMRG iteration, maximized over all spatial\n",
    "directions and unit cell entries:"
   ],
   "metadata": {}
  },
  {
   "outputs": [],
   "cell_type": "code",
   "source": [
    "@show info_ctmrg.truncation_error;"
   ],
   "metadata": {},
   "execution_count": null
  },
  {
   "cell_type": "markdown",
   "source": [
    "## Ground state search\n",
    "\n",
    "Finally, we can start the optimization by calling `fixedpoint` on `H` with our\n",
    "settings for the boundary (CTMRG) algorithm and the optimizer. This might take a while\n",
    "(especially the precompilation of AD code in this case):"
   ],
   "metadata": {}
  },
  {
   "outputs": [],
   "cell_type": "code",
   "source": [
    "peps, env, E, info_opt = fixedpoint(\n",
    "    H, peps₀, env₀; boundary_alg, optimizer_alg, reuse_env, verbosity\n",
    ");"
   ],
   "metadata": {},
   "execution_count": null
  },
  {
   "cell_type": "markdown",
   "source": [
    "Note that `fixedpoint` returns the final optimized PEPS, the last converged environment,\n",
    "the final energy estimate as well as a `NamedTuple` of diagnostics. This allows us to, e.g.,\n",
    "analyze the number of cost function calls or the history of gradient norms to evaluate\n",
    "the convergence rate:"
   ],
   "metadata": {}
  },
  {
   "outputs": [],
   "cell_type": "code",
   "source": [
    "@show info_opt.fg_evaluations info_opt.gradnorms[1:10:end];"
   ],
   "metadata": {},
   "execution_count": null
  },
  {
   "cell_type": "markdown",
   "source": [
    "Let's now compare the optimized energy against an accurate Quantum Monte Carlo estimate by\n",
    "[Sandvik](@cite sandvik_computational_2011), where the energy per site was found to be\n",
    "$E_{\\text{ref}}=−0.6694421$. From our simple optimization we find:"
   ],
   "metadata": {}
  },
  {
   "outputs": [],
   "cell_type": "code",
   "source": [
    "@show E;"
   ],
   "metadata": {},
   "execution_count": null
  },
  {
   "cell_type": "markdown",
   "source": [
    "While this energy is in the right ballpark, there is still quite some deviation from the\n",
    "accurate reference energy. This, however, can be attributed to the small bond dimension - an\n",
    "optimization with larger bond dimension would approach this value much more closely.\n",
    "\n",
    "A more reasonable comparison would be against another finite bond dimension PEPS simulation.\n",
    "For example, Juraj Hasik's data from $J_1\\text{-}J_2$\n",
    "[PEPS simulations](https://github.com/jurajHasik/j1j2_ipeps_states/blob/main/single-site_pg-C4v-A1/j20.0/state_1s_A1_j20.0_D2_chi_opt48.dat)\n",
    "yields $E_{D=2,\\chi=16}=-0.660231\\dots$ which is more in line with what we find here.\n",
    "\n",
    "## Compute the correlation lengths and transfer matrix spectra\n",
    "\n",
    "In practice, in order to obtain an accurate and variational energy estimate, one would need\n",
    "to compute multiple energies at different environment dimensions and extrapolate in, e.g.,\n",
    "the correlation length or the second gap of the transfer matrix spectrum. For that, we would\n",
    "need the `correlation_length` function, which computes the horizontal and vertical\n",
    "correlation lengths and transfer matrix spectra for all unit cell coordinates:"
   ],
   "metadata": {}
  },
  {
   "outputs": [],
   "cell_type": "code",
   "source": [
    "ξ_h, ξ_v, λ_h, λ_v = correlation_length(peps, env)\n",
    "@show ξ_h ξ_v;"
   ],
   "metadata": {},
   "execution_count": null
  },
  {
   "cell_type": "markdown",
   "source": [
    "## Computing observables\n",
    "\n",
    "As a last thing, we want to see how we can compute expectation values of observables, given\n",
    "the optimized PEPS and its CTMRG environment. To compute, e.g., the magnetization, we first\n",
    "need to define the observable as a `TensorMap`:"
   ],
   "metadata": {}
  },
  {
   "outputs": [],
   "cell_type": "code",
   "source": [
    "σ_z = TensorMap([1.0 0.0; 0.0 -1.0], ℂ^2, ℂ^2)"
   ],
   "metadata": {},
   "execution_count": null
  },
  {
   "cell_type": "markdown",
   "source": [
    "In order to be able to contract it with the PEPS and environment, we define need to define a\n",
    "`LocalOperator` and specify on which physical spaces and sites the observable acts. That way,\n",
    "the PEPS-environment-operator contraction gets automatically generated (also works for\n",
    "multi-site operators!). See the `LocalOperator` docstring for more details.\n",
    "The magnetization is just a single-site observable, so we have:"
   ],
   "metadata": {}
  },
  {
   "outputs": [],
   "cell_type": "code",
   "source": [
    "M = LocalOperator(fill(ℂ^2, 1, 1), (CartesianIndex(1, 1),) => σ_z)"
   ],
   "metadata": {},
   "execution_count": null
  },
  {
   "cell_type": "markdown",
   "source": [
    "Finally, to evaluate the expecation value on the `LocalOperator`, we call:"
   ],
   "metadata": {}
  },
  {
   "outputs": [],
   "cell_type": "code",
   "source": [
    "@show expectation_value(peps, M, env);"
   ],
   "metadata": {},
   "execution_count": null
  },
  {
   "cell_type": "markdown",
   "source": [
    "---\n",
    "\n",
    "*This notebook was generated using [Literate.jl](https://github.com/fredrikekre/Literate.jl).*"
   ],
   "metadata": {}
  }
 ],
 "nbformat_minor": 3,
 "metadata": {
  "language_info": {
   "file_extension": ".jl",
   "mimetype": "application/julia",
   "name": "julia",
   "version": "1.11.4"
  },
  "kernelspec": {
   "name": "julia-1.11",
   "display_name": "Julia 1.11.4",
   "language": "julia"
  }
 },
 "nbformat": 4
}
