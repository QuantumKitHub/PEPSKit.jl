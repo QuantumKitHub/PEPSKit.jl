{
 "cells": [
  {
   "outputs": [],
   "cell_type": "code",
   "source": [
    "using Markdown #hide"
   ],
   "metadata": {},
   "execution_count": null
  },
  {
   "cell_type": "markdown",
   "source": [
    "# Optimizing the $U(1)$-symmetric Bose-Hubbard model\n",
    "\n",
    "This example demonstrates the simulation of the two-dimensional Bose-Hubbard model. In\n",
    "particular, the point will be to showcase the use of internal symmetries and finite\n",
    "particle densities in PEPS ground state searches. As we will see, incorporating symmetries\n",
    "into the simulation consists of initializing a symmetric Hamiltonian, PEPS state and CTM\n",
    "environment - made possible through TensorKit.\n",
    "\n",
    "But first let's seed the RNG and import the required modules:"
   ],
   "metadata": {}
  },
  {
   "outputs": [],
   "cell_type": "code",
   "source": [
    "using Random\n",
    "using TensorKit, PEPSKit\n",
    "using MPSKit: add_physical_charge\n",
    "Random.seed!(2928528935);"
   ],
   "metadata": {},
   "execution_count": null
  },
  {
   "cell_type": "markdown",
   "source": [
    "## Defining the model\n",
    "\n",
    "We will construct the Bose-Hubbard model Hamiltonian through the\n",
    "[`bose_hubbard_model`](https://quantumkithub.github.io/MPSKitModels.jl/dev/man/models/#MPSKitModels.bose_hubbard_model),\n",
    "function from MPSKitModels as reexported by PEPSKit. We'll simulate the model in its\n",
    "Mott-insulating phase where the ratio $U/t$ is large, since in this phase we expect the\n",
    "ground state to be well approximated by a PEPS with a manifest global $U(1)$ symmetry.\n",
    "Furthermore, we'll impose a cutoff at 2 bosons per site, set the chemical potential to zero\n",
    "and use a simple $1 \\times 1$ unit cell:"
   ],
   "metadata": {}
  },
  {
   "outputs": [],
   "cell_type": "code",
   "source": [
    "t = 1.0\n",
    "U = 30.0\n",
    "cutoff = 2\n",
    "mu = 0.0\n",
    "lattice = InfiniteSquare(1, 1);"
   ],
   "metadata": {},
   "execution_count": null
  },
  {
   "cell_type": "markdown",
   "source": [
    "Next, we impose an explicit global $U(1)$ symmetry as well as a fixed particle number\n",
    "density in our simulations. We can do this by setting the `symmetry` argument of the\n",
    "Hamiltonian constructor to `U1Irrep` and passing one as the particle number density\n",
    "keyword argument `n`:"
   ],
   "metadata": {}
  },
  {
   "outputs": [],
   "cell_type": "code",
   "source": [
    "symmetry = U1Irrep\n",
    "n = 1\n",
    "H = bose_hubbard_model(ComplexF64, symmetry, lattice; cutoff, t, U, n);"
   ],
   "metadata": {},
   "execution_count": null
  },
  {
   "cell_type": "markdown",
   "source": [
    "Before we continue, it might be interesting to inspect the corresponding lattice physical\n",
    "spaces (which is here just a $1 \\times 1$ matrix due to the single-site unit cell):"
   ],
   "metadata": {}
  },
  {
   "outputs": [],
   "cell_type": "code",
   "source": [
    "physical_spaces = physicalspace(H)"
   ],
   "metadata": {},
   "execution_count": null
  },
  {
   "cell_type": "markdown",
   "source": [
    "Note that the physical space contains $U(1)$ charges -1, 0 and +1. Indeed, imposing a\n",
    "particle number density of +1 corresponds to shifting the physical charges by -1 to\n",
    "'re-center' the physical charges around the desired density. When we do this with a cutoff\n",
    "of two bosons per site, i.e. starting from $U(1)$ charges 0, 1 and 2 on the physical level,\n",
    "we indeed get the observed charges.\n",
    "\n",
    "## Characterizing the virtual spaces\n",
    "\n",
    "When running PEPS simulations with explicit internal symmetries, specifying the structure of\n",
    "the virtual spaces of the PEPS and its environment becomes a bit more involved. For the\n",
    "environment, one could in principle allow the virtual space to be chosen dynamically during\n",
    "the boundary contraction using CTMRG by using a truncation scheme that allows for this\n",
    "(e.g. using `alg=:truncdim` or `alg=:truncbelow` to truncate to a fixed total bond dimension\n",
    "or singular value cutoff respectively). For the PEPS virtual space however, the structure\n",
    "has to be specified before the optimization.\n",
    "\n",
    "While there are a host of techniques to do this in an informed way (e.g. starting from a\n",
    "simple update result), here we just specify the virtual space manually. Since we're dealing\n",
    "with a model at unit filling our physical space only contains integer $U(1)$ irreps.\n",
    "Therefore, we'll build our PEPS and environment spaces using integer $U(1)$ irreps centered\n",
    "around the zero charge:"
   ],
   "metadata": {}
  },
  {
   "outputs": [],
   "cell_type": "code",
   "source": [
    "V_peps = U1Space(0 => 2, 1 => 1, -1 => 1)\n",
    "V_env = U1Space(0 => 6, 1 => 4, -1 => 4, 2 => 2, -2 => 2);"
   ],
   "metadata": {},
   "execution_count": null
  },
  {
   "cell_type": "markdown",
   "source": [
    "## Finding the ground state\n",
    "\n",
    "Having defined our Hamiltonian and spaces, it is just a matter of plugging this into the\n",
    "optimization framework in the usual way to find the ground state. So, we first specify all\n",
    "algorithms and their tolerances:"
   ],
   "metadata": {}
  },
  {
   "outputs": [],
   "cell_type": "code",
   "source": [
    "boundary_alg = (; tol=1e-8, alg=:simultaneous, trscheme=(; alg=:fixedspace))\n",
    "gradient_alg = (; tol=1e-6, maxiter=10, alg=:eigsolver, iterscheme=:diffgauge)\n",
    "optimizer_alg = (; tol=1e-4, alg=:lbfgs, maxiter=150, ls_maxiter=2, ls_maxfg=2);"
   ],
   "metadata": {},
   "execution_count": null
  },
  {
   "cell_type": "markdown",
   "source": [
    "!!! note\n",
    "\tTaking CTMRG gradients and optimizing symmetric tensors tends to be more problematic\n",
    "    than with dense tensors. In particular, this means that one frequently needs to tweak\n",
    "    the `boundary_alg`, `gradient_alg` and `optimizer_alg` settings. There rarely is a\n",
    "    general-purpose set of settings which will always work, so instead one has to adjust\n",
    "    the simulation settings for each specific application. For example, it might help to\n",
    "    switch between the CTMRG flavors `alg=:simultaneous` and `alg=:sequential` to\n",
    "    improve convergence. The evaluation of the CTMRG gradient can be instable, so there it\n",
    "    is advised to try the different `iterscheme=:diffgauge` and `iterscheme=:fixed` schemes\n",
    "    as well as different `alg` keywords. Of course the tolerances of the algorithms and\n",
    "    their subalgorithms also have to be compatible. For more details on the available\n",
    "    options, see the `fixedpoint` docstring.\n",
    "\n",
    "Keep in mind that the PEPS is constructed from a unit cell of spaces, so we have to make a\n",
    "matrix of `V_peps` spaces:"
   ],
   "metadata": {}
  },
  {
   "outputs": [],
   "cell_type": "code",
   "source": [
    "virtual_spaces = fill(V_peps, size(lattice)...)\n",
    "peps₀ = InfinitePEPS(randn, ComplexF64, physical_spaces, virtual_spaces)\n",
    "env₀, = leading_boundary(CTMRGEnv(peps₀, V_env), peps₀; boundary_alg...);"
   ],
   "metadata": {},
   "execution_count": null
  },
  {
   "cell_type": "markdown",
   "source": [
    "And at last, we optimize (which might take a bit):"
   ],
   "metadata": {}
  },
  {
   "outputs": [],
   "cell_type": "code",
   "source": [
    "peps, env, E, info = fixedpoint(\n",
    "    H, peps₀, env₀; boundary_alg, gradient_alg, optimizer_alg, verbosity=3\n",
    ")\n",
    "@show E;"
   ],
   "metadata": {},
   "execution_count": null
  },
  {
   "cell_type": "markdown",
   "source": [
    "We can compare our PEPS result to the energy obtained using a cylinder-MPS calculation\n",
    "using a cylinder circumference of $L_y = 7$ and a bond dimension of 446, which yields\n",
    "$E = -0.273284888$:"
   ],
   "metadata": {}
  },
  {
   "outputs": [],
   "cell_type": "code",
   "source": [
    "E_ref = -0.273284888\n",
    "@show (E - E_ref) / E_ref;"
   ],
   "metadata": {},
   "execution_count": null
  },
  {
   "cell_type": "markdown",
   "source": [
    "---\n",
    "\n",
    "*This notebook was generated using [Literate.jl](https://github.com/fredrikekre/Literate.jl).*"
   ],
   "metadata": {}
  }
 ],
 "nbformat_minor": 3,
 "metadata": {
  "language_info": {
   "file_extension": ".jl",
   "mimetype": "application/julia",
   "name": "julia",
   "version": "1.11.4"
  },
  "kernelspec": {
   "name": "julia-1.11",
   "display_name": "Julia 1.11.4",
   "language": "julia"
  }
 },
 "nbformat": 4
}
