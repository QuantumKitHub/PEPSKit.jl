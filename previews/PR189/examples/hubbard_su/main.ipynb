{
 "cells": [
  {
   "outputs": [],
   "cell_type": "code",
   "source": [
    "using Markdown #hide"
   ],
   "metadata": {},
   "execution_count": null
  },
  {
   "cell_type": "markdown",
   "source": [
    "# Simple update for the Fermi-Hubbard model at half-filling\n",
    "\n",
    "Once again, we consider the Hubbard model but this time we obtain the ground-state PEPS by\n",
    "imaginary time evolution. In particular, we'll use the `SimpleUpdate` algorithm.\n",
    "As a reminder, we define the Hubbard model as\n",
    "\n",
    "$$\n",
    "H = -t \\sum_{\\langle i,j \\rangle} \\sum_{\\sigma} \\left( c_{i,\\sigma}^+ c_{j,\\sigma}^- -\n",
    "c_{i,\\sigma}^- c_{j,\\sigma}^+ \\right) + U \\sum_i n_{i,\\uparrow}n_{i,\\downarrow} - \\mu \\sum_i n_i\n",
    "$$\n",
    "\n",
    "with $\\sigma \\in \\{\\uparrow,\\downarrow\\}$ and $n_{i,\\sigma} = c_{i,\\sigma}^+ c_{i,\\sigma}^-$.\n",
    "\n",
    "Let's get started by seeding the RNG and importing the required modules:"
   ],
   "metadata": {}
  },
  {
   "outputs": [],
   "cell_type": "code",
   "source": [
    "using Random\n",
    "using TensorKit, PEPSKit\n",
    "Random.seed!(12329348592498);"
   ],
   "metadata": {},
   "execution_count": null
  },
  {
   "cell_type": "markdown",
   "source": [
    "## Defining the Hamiltonian\n",
    "\n",
    "First, we define the Hubbard model at $t=1$ hopping and $U=6$ using `Trivial` sectors for\n",
    "the particle and spin symmetries, and set $\\mu = U/2$ for half-filling. The model will be\n",
    "constructed on a $2 \\times 2$ unit cell, so we have:"
   ],
   "metadata": {}
  },
  {
   "outputs": [],
   "cell_type": "code",
   "source": [
    "t = 1\n",
    "U = 6\n",
    "Nr, Nc = 2, 2\n",
    "H = hubbard_model(Float64, Trivial, Trivial, InfiniteSquare(Nr, Nc); t, U, mu=U / 2);"
   ],
   "metadata": {},
   "execution_count": null
  },
  {
   "cell_type": "markdown",
   "source": [
    "## Running the simple update algorithm\n",
    "\n",
    "Next, we'll specify the virtual PEPS bond dimension and define the fermionic physical and\n",
    "virtual spaces. The simple update algorithm evolves an infinite PEPS with weights on the\n",
    "virtual bonds, so we here need to intialize an `InfiniteWeightPEPS`. By default,\n",
    "the bond weights will be identity. Unlike in the other examples, we here use tensors with\n",
    "real `Float64` entries:"
   ],
   "metadata": {}
  },
  {
   "outputs": [],
   "cell_type": "code",
   "source": [
    "Dbond = 8\n",
    "physical_space = Vect[fℤ₂](0 => 2, 1 => 2)\n",
    "virtual_space = Vect[fℤ₂](0 => Dbond / 2, 1 => Dbond / 2)\n",
    "wpeps = InfiniteWeightPEPS(rand, Float64, physical_space, virtual_space; unitcell=(Nr, Nc));"
   ],
   "metadata": {},
   "execution_count": null
  },
  {
   "cell_type": "markdown",
   "source": [
    "Let's set the algorithm parameters: The plan is to successively decrease the time interval of\n",
    "the Trotter-Suzuki as well as the convergence tolerance such that we obtain a more accurate\n",
    "result at each iteration. To run the simple update, we call `simpleupdate` where we\n",
    "use the keyword `bipartite=false` - meaning that we use the full $2 \\times 2$ unit cell\n",
    "without assuming a bipartite structure. Thus, we can start evolving:"
   ],
   "metadata": {}
  },
  {
   "outputs": [],
   "cell_type": "code",
   "source": [
    "dts = [1e-2, 1e-3, 4e-4, 1e-4]\n",
    "tols = [1e-6, 1e-8, 1e-8, 1e-8]\n",
    "maxiter = 20000\n",
    "\n",
    "for (n, (dt, tol)) in enumerate(zip(dts, tols))\n",
    "    trscheme = truncerr(1e-10) & truncdim(Dbond)\n",
    "    alg = SimpleUpdate(dt, tol, maxiter, trscheme)\n",
    "    global wpeps, = simpleupdate(wpeps, H, alg; bipartite=false)\n",
    "end"
   ],
   "metadata": {},
   "execution_count": null
  },
  {
   "cell_type": "markdown",
   "source": [
    "To obtain the evolved `InfiniteWeightPEPS` as an actual PEPS without weights on the bonds,\n",
    "we can just call the following constructor:"
   ],
   "metadata": {}
  },
  {
   "outputs": [],
   "cell_type": "code",
   "source": [
    "peps = InfinitePEPS(wpeps);"
   ],
   "metadata": {},
   "execution_count": null
  },
  {
   "cell_type": "markdown",
   "source": [
    "## Computing the ground-state energy\n",
    "\n",
    "In order to compute the energy expectation value with evolved PEPS, we need to converge a\n",
    "CTMRG environment on it. We first converge an environment with a small enviroment dimension\n",
    "and then use that to initialize another run with bigger environment dimension. We'll use\n",
    "`trscheme=truncdim(χ)` for that such that the dimension is increased during the second CTMRG\n",
    "run:"
   ],
   "metadata": {}
  },
  {
   "outputs": [],
   "cell_type": "code",
   "source": [
    "χenv₀, χenv = 6, 16\n",
    "env_space = Vect[fℤ₂](0 => χenv₀ / 2, 1 => χenv₀ / 2)\n",
    "\n",
    "env = CTMRGEnv(rand, Float64, peps, env_space)\n",
    "for χ in [χenv₀, χenv]\n",
    "    global env, = leading_boundary(\n",
    "        env, peps; alg=:sequential, tol=1e-5, trscheme=truncdim(χ)\n",
    "    )\n",
    "end"
   ],
   "metadata": {},
   "execution_count": null
  },
  {
   "cell_type": "markdown",
   "source": [
    "We measure the energy by computing the `H` expectation value, where we have to make sure to\n",
    "normalize with respect to the unit cell to obtain the energy per site:"
   ],
   "metadata": {}
  },
  {
   "outputs": [],
   "cell_type": "code",
   "source": [
    "E = expectation_value(peps, H, env) / (Nr * Nc)\n",
    "@show E;"
   ],
   "metadata": {},
   "execution_count": null
  },
  {
   "cell_type": "markdown",
   "source": [
    "Finally, we can compare the obtained ground-state energy against the literature, namely the\n",
    "QMC estimates from [Qin et al.](@cite qin_benchmark_2016). We find that the results generally\n",
    "agree:"
   ],
   "metadata": {}
  },
  {
   "outputs": [],
   "cell_type": "code",
   "source": [
    "Es_exact = Dict(0 => -1.62, 2 => -0.176, 4 => 0.8603, 6 => -0.6567, 8 => -0.5243)\n",
    "E_exact = Es_exact[U] - U / 2\n",
    "@show (E - E_exact) / E_exact;"
   ],
   "metadata": {},
   "execution_count": null
  },
  {
   "cell_type": "markdown",
   "source": [
    "---\n",
    "\n",
    "*This notebook was generated using [Literate.jl](https://github.com/fredrikekre/Literate.jl).*"
   ],
   "metadata": {}
  }
 ],
 "nbformat_minor": 3,
 "metadata": {
  "language_info": {
   "file_extension": ".jl",
   "mimetype": "application/julia",
   "name": "julia",
   "version": "1.11.4"
  },
  "kernelspec": {
   "name": "julia-1.11",
   "display_name": "Julia 1.11.4",
   "language": "julia"
  }
 },
 "nbformat": 4
}
