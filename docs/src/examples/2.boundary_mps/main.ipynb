{
 "cells": [
  {
   "outputs": [],
   "cell_type": "code",
   "source": [
    "using Markdown #hide"
   ],
   "metadata": {},
   "execution_count": null
  },
  {
   "cell_type": "markdown",
   "source": [
    "# Boundary MPS contractions using VUMPS and PEPOs\n",
    "\n",
    "Instead of using CTMRG to contract an infinite PEPS, one can also use an boundary MPSs\n",
    "ansatz to contract the infinite network. In particular, we will here use VUMPS to do so.\n",
    "\n",
    "Before we start, we'll fix the random seed for reproducability:"
   ],
   "metadata": {}
  },
  {
   "outputs": [],
   "cell_type": "code",
   "source": [
    "using Random\n",
    "Random.seed!(29384293742893);"
   ],
   "metadata": {},
   "execution_count": null
  },
  {
   "cell_type": "markdown",
   "source": [
    "Besides `TensorKit` and `PEPSKit`, we here also need [`MPSKit`](https://quantumkithub.github.io/MPSKit.jl/stable/)\n",
    "which implements the VUMPS algorithm as well as the required MPS operations:"
   ],
   "metadata": {}
  },
  {
   "outputs": [],
   "cell_type": "code",
   "source": [
    "using TensorKit, PEPSKit, MPSKit"
   ],
   "metadata": {},
   "execution_count": null
  },
  {
   "cell_type": "markdown",
   "source": [
    "## Computing a PEPS norm\n",
    "\n",
    "We start by initializing a random initial infinite PEPS:"
   ],
   "metadata": {}
  },
  {
   "outputs": [],
   "cell_type": "code",
   "source": [
    "peps₀ = InfinitePEPS(ComplexSpace(2), ComplexSpace(2))"
   ],
   "metadata": {},
   "execution_count": null
  },
  {
   "cell_type": "markdown",
   "source": [
    "To compute its norm, we need to construct the transfer operator corresponding to\n",
    "the partition function representing the overlap $\\langle \\psi_\\text{PEPS} | \\psi_\\text{PEPS} \\rangle$:"
   ],
   "metadata": {}
  },
  {
   "outputs": [],
   "cell_type": "code",
   "source": [
    "transfer = InfiniteTransferPEPS(peps₀, 1, 1)"
   ],
   "metadata": {},
   "execution_count": null
  },
  {
   "cell_type": "markdown",
   "source": [
    "We then find its leading boundary MPS fixed point, where the corresponding eigenvalue\n",
    "encodes the norm of the state. To that end, let us first we build an initial guess for the\n",
    "boundary MPS, choosing a bond dimension of 20:"
   ],
   "metadata": {}
  },
  {
   "outputs": [],
   "cell_type": "code",
   "source": [
    "mps₀ = initializeMPS(transfer, [ComplexSpace(20)])"
   ],
   "metadata": {},
   "execution_count": null
  },
  {
   "cell_type": "markdown",
   "source": [
    "Note that this will just construct a MPS with random Gaussian entries based on the virtual\n",
    "spaces of the supplied transfer operator. Of course, one might come up with a better initial\n",
    "guess (leading to better convergence) depending on the application. To find the leading\n",
    "boundary MPS fixed point, we call `leading_boundary` using the VUMPS\n",
    "algorithm from MPSKit. Note that, by default, `leading_boundary` uses CTMRG where the\n",
    "settings are supplied as keyword arguments, so in the present case we need to supply the\n",
    "VUMPS algorithm struct explicitly:"
   ],
   "metadata": {}
  },
  {
   "outputs": [],
   "cell_type": "code",
   "source": [
    "mps, env, ϵ = leading_boundary(mps₀, transfer, VUMPS(; tol=1e-6, verbosity=2));"
   ],
   "metadata": {},
   "execution_count": null
  },
  {
   "cell_type": "markdown",
   "source": [
    "The norm of the state per unit cell is then given by the expectation value\n",
    "$\\langle \\psi_\\text{MPS} | \\mathbb{T} | \\psi_\\text{MPS} \\rangle$:"
   ],
   "metadata": {}
  },
  {
   "outputs": [],
   "cell_type": "code",
   "source": [
    "norm_vumps = abs(prod(expectation_value(mps, transfer)))"
   ],
   "metadata": {},
   "execution_count": null
  },
  {
   "cell_type": "markdown",
   "source": [
    "This can be compared to the result obtained using CTMRG, where we see that the results match:"
   ],
   "metadata": {}
  },
  {
   "outputs": [],
   "cell_type": "code",
   "source": [
    "env_ctmrg, = leading_boundary(\n",
    "    CTMRGEnv(peps₀, ComplexSpace(20)), peps₀; tol=1e-6, verbosity=2\n",
    ")\n",
    "norm_ctmrg = abs(norm(peps₀, env_ctmrg))\n",
    "@show abs(norm_vumps - norm_ctmrg) / norm_vumps;"
   ],
   "metadata": {},
   "execution_count": null
  },
  {
   "cell_type": "markdown",
   "source": [
    "## Working with unit cells\n",
    "\n",
    "For PEPS with non-trivial unit cells, the principle is exactly the same. The only difference\n",
    "is that now the transfer operator of the PEPS norm partition function has multiple lines,\n",
    "each of which can be represented by an `InfiniteTransferPEPS` object. Such a\n",
    "multi-line transfer operator is represented by a `MultilineTransferPEPS` object. In this\n",
    "case, the boundary MPS is an `MultilineMPS` object, which should be initialized\n",
    "by specifying a virtual space for each site in the partition function unit cell.\n",
    "\n",
    "First, we construct a PEPS with a $2 \\times 2$ unit cell using the `unitcell` keyword\n",
    "argument and then define the corresponding transfer PEPS:"
   ],
   "metadata": {}
  },
  {
   "outputs": [],
   "cell_type": "code",
   "source": [
    "peps₀_2x2 = InfinitePEPS(rand, ComplexF64, ComplexSpace(2), ComplexSpace(2); unitcell=(2, 2))\n",
    "transfer_2x2 = PEPSKit.MultilineTransferPEPS(peps₀_2x2, 1);"
   ],
   "metadata": {},
   "execution_count": null
  },
  {
   "cell_type": "markdown",
   "source": [
    "Now, the procedure is the same as before: We compute the norm once using VUMPS, once using CTMRG and then compare."
   ],
   "metadata": {}
  },
  {
   "outputs": [],
   "cell_type": "code",
   "source": [
    "mps₀_2x2 = initializeMPS(transfer_2x2, fill(ComplexSpace(20), 2, 2))\n",
    "mps_2x2, = leading_boundary(mps₀_2x2, transfer_2x2, VUMPS(; tol=1e-6, verbosity=2))\n",
    "norm_2x2_vumps = abs(prod(expectation_value(mps_2x2, transfer_2x2)))\n",
    "\n",
    "env_ctmrg_2x2, = leading_boundary(\n",
    "    CTMRGEnv(peps₀_2x2, ComplexSpace(20)), peps₀_2x2; tol=1e-6, verbosity=2\n",
    ")\n",
    "norm_2x2_ctmrg = abs(norm(peps₀_2x2, env_ctmrg_2x2))\n",
    "\n",
    "@show abs(norm_2x2_vumps - norm_2x2_ctmrg) / norm_2x2_vumps;"
   ],
   "metadata": {},
   "execution_count": null
  },
  {
   "cell_type": "markdown",
   "source": [
    "Again, the results are compatible. Note that for larger unit cells and non-Hermitian PEPS\n",
    "the VUMPS algorithm may become unstable, in which case the CTMRG algorithm is recommended.\n",
    "\n",
    "## Contracting PEPO overlaps\n",
    "\n",
    "Using exactly the same machinery, we can contract partition functions which encode the\n",
    "expectation value of a PEPO for a given PEPS state. As an example, we can consider the\n",
    "overlap of the PEPO correponding to the partition function of 3D classical Ising model with\n",
    "our random PEPS from before and evaluate the overlap\n",
    "$\\langle \\psi_\\text{PEPS} | O_\\text{PEPO} | \\psi_\\text{PEPS} \\rangle$.\n",
    "\n",
    "The classical Ising PEPO is defined as follows:"
   ],
   "metadata": {}
  },
  {
   "outputs": [],
   "cell_type": "code",
   "source": [
    "function ising_pepo(β; unitcell=(1, 1, 1))\n",
    "    t = ComplexF64[exp(β) exp(-β); exp(-β) exp(β)]\n",
    "    q = sqrt(t)\n",
    "\n",
    "    O = zeros(2, 2, 2, 2, 2, 2)\n",
    "    O[1, 1, 1, 1, 1, 1] = 1\n",
    "    O[2, 2, 2, 2, 2, 2] = 1\n",
    "    @tensor o[-1 -2; -3 -4 -5 -6] :=\n",
    "        O[1 2; 3 4 5 6] * q[-1; 1] * q[-2; 2] * q[-3; 3] * q[-4; 4] * q[-5; 5] * q[-6; 6]\n",
    "    O = TensorMap(o, ℂ^2 ⊗ (ℂ^2)' ← ℂ^2 ⊗ ℂ^2 ⊗ (ℂ^2)' ⊗ (ℂ^2)')\n",
    "\n",
    "    return InfinitePEPO(O; unitcell)\n",
    "end;"
   ],
   "metadata": {},
   "execution_count": null
  },
  {
   "cell_type": "markdown",
   "source": [
    "To evaluate the overlap, we instantiate the PEPO and the corresponding `InfiniteTransferPEPO`\n",
    "in the right direction, on the right row of the partition function (trivial here):"
   ],
   "metadata": {}
  },
  {
   "outputs": [],
   "cell_type": "code",
   "source": [
    "pepo = ising_pepo(1)\n",
    "transfer_pepo = InfiniteTransferPEPO(peps₀, pepo, 1, 1)"
   ],
   "metadata": {},
   "execution_count": null
  },
  {
   "cell_type": "markdown",
   "source": [
    "As before, we converge the boundary MPS using VUMPS and then compute the expectation value:"
   ],
   "metadata": {}
  },
  {
   "outputs": [],
   "cell_type": "code",
   "source": [
    "mps₀_pepo = initializeMPS(transfer_pepo, [ComplexSpace(20)])\n",
    "mps_pepo, = leading_boundary(mps₀_pepo, transfer_pepo, VUMPS(; tol=1e-6, verbosity=2))\n",
    "norm_pepo = abs(prod(expectation_value(mps_pepo, transfer_pepo)));\n",
    "@show norm_pepo;"
   ],
   "metadata": {},
   "execution_count": null
  },
  {
   "cell_type": "markdown",
   "source": [
    "These objects and routines can be used to optimize PEPS fixed points of 3D partition\n",
    "functions, see for example [Vanderstraeten et al.](@cite vanderstraeten_residual_2018)"
   ],
   "metadata": {}
  },
  {
   "cell_type": "markdown",
   "source": [
    "---\n",
    "\n",
    "*This notebook was generated using [Literate.jl](https://github.com/fredrikekre/Literate.jl).*"
   ],
   "metadata": {}
  }
 ],
 "nbformat_minor": 3,
 "metadata": {
  "language_info": {
   "file_extension": ".jl",
   "mimetype": "application/julia",
   "name": "julia",
   "version": "1.11.4"
  },
  "kernelspec": {
   "name": "julia-1.11",
   "display_name": "Julia 1.11.4",
   "language": "julia"
  }
 },
 "nbformat": 4
}
