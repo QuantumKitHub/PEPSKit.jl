{
 "cells": [
  {
   "outputs": [],
   "cell_type": "code",
   "source": [
    "using Markdown #hide"
   ],
   "metadata": {},
   "execution_count": null
  },
  {
   "cell_type": "markdown",
   "source": [
    "# Néel order in the $U(1)$-symmetric XXZ model\n",
    "\n",
    "Here, we want to look at a special case of the Heisenberg model, where the $x$ and $y$\n",
    "couplings are equal, called the XXZ model\n",
    "\n",
    "$$\n",
    "H_0 = J \\big(\\sum_{\\langle i, j \\rangle} S_i^x S_j^x + S_i^y S_j^y + \\Delta S_i^z S_j^z \\big) .\n",
    "$$\n",
    "\n",
    "For appropriate $\\Delta$, the model enters an antiferromagnetic phase (Néel order) which we\n",
    "will force by adding staggered magnetic charges to $H_0$. Furthermore, since the XXZ\n",
    "Hamiltonian obeys a $U(1)$ symmetry, we will make use of that and work with $U(1)$-symmetric\n",
    "PEPS and CTMRG environments. For simplicity, we will consider spin-$1/2$ operators.\n",
    "\n",
    "But first, let's make this example deterministic and import the required packages:"
   ],
   "metadata": {}
  },
  {
   "outputs": [],
   "cell_type": "code",
   "source": [
    "using Random\n",
    "using TensorKit, PEPSKit\n",
    "using MPSKit: add_physical_charge\n",
    "Random.seed!(2928528935);"
   ],
   "metadata": {},
   "execution_count": null
  },
  {
   "cell_type": "markdown",
   "source": [
    "## Constructing the model\n",
    "\n",
    "Let us define the $U(1)$-symmetric XXZ Hamiltonian on a $2 \\times 2$ unit cell with the\n",
    "parameters:"
   ],
   "metadata": {}
  },
  {
   "outputs": [],
   "cell_type": "code",
   "source": [
    "J = 1.0\n",
    "Delta = 1.0\n",
    "spin = 1//2\n",
    "symmetry = U1Irrep\n",
    "lattice = InfiniteSquare(2, 2)\n",
    "H₀ = heisenberg_XXZ(ComplexF64, symmetry, lattice; J, Delta, spin);"
   ],
   "metadata": {},
   "execution_count": null
  },
  {
   "cell_type": "markdown",
   "source": [
    "This ensures that our PEPS ansatz can support the bipartite Néel order. As discussed above,\n",
    "we encode the Néel order directly in the ansatz by adding staggered auxiliary physical\n",
    "charges:"
   ],
   "metadata": {}
  },
  {
   "outputs": [],
   "cell_type": "code",
   "source": [
    "S_aux = [\n",
    "    U1Irrep(-1//2) U1Irrep(1//2)\n",
    "    U1Irrep(1//2) U1Irrep(-1//2)\n",
    "]\n",
    "H = add_physical_charge(H₀, S_aux);"
   ],
   "metadata": {},
   "execution_count": null
  },
  {
   "cell_type": "markdown",
   "source": [
    "## Specifying the symmetric virtual spaces\n",
    "\n",
    "Before we create an initial PEPS and CTM environment, we need to think about which\n",
    "symmetric spaces we need to construct. Since we want to exploit the global $U(1)$ symmetry\n",
    "of the model, we will use TensorKit's `U1Space`s where we specify dimensions for each\n",
    "symmetry sector. From the virtual spaces, we will need to construct a unit cell (a matrix)\n",
    "of spaces which will be supplied to the PEPS constructor. The same is true for the physical\n",
    "spaces, which can be extracted directly from the Hamiltonian `LocalOperator`:"
   ],
   "metadata": {}
  },
  {
   "outputs": [],
   "cell_type": "code",
   "source": [
    "V_peps = U1Space(0 => 2, 1 => 1, -1 => 1)\n",
    "V_env = U1Space(0 => 6, 1 => 4, -1 => 4, 2 => 2, -2 => 2)\n",
    "virtual_spaces = fill(V_peps, size(lattice)...)\n",
    "physical_spaces = physicalspace(H)"
   ],
   "metadata": {},
   "execution_count": null
  },
  {
   "cell_type": "markdown",
   "source": [
    "## Ground state search\n",
    "\n",
    "From this point onwards it's business as usual: Create an initial PEPS and environment\n",
    "(using the symmetric spaces), specify the algorithmic parameters and optimize:"
   ],
   "metadata": {}
  },
  {
   "outputs": [],
   "cell_type": "code",
   "source": [
    "boundary_alg = (; tol=1e-8, alg=:simultaneous, trscheme=(; alg=:fixedspace))\n",
    "gradient_alg = (; tol=1e-6, alg=:eigsolver, maxiter=10, iterscheme=:diffgauge)\n",
    "optimizer_alg = (; tol=1e-4, alg=:lbfgs, maxiter=85, ls_maxiter=3, ls_maxfg=3)\n",
    "\n",
    "peps₀ = InfinitePEPS(randn, ComplexF64, physical_spaces, virtual_spaces)\n",
    "env₀, = leading_boundary(CTMRGEnv(peps₀, V_env), peps₀; boundary_alg...);"
   ],
   "metadata": {},
   "execution_count": null
  },
  {
   "cell_type": "markdown",
   "source": [
    "Finally, we can optimize the PEPS with respect to the XXZ Hamiltonian. Note that the\n",
    "optimization might take a while since precompilation of symmetric AD code takes longer and\n",
    "because symmetric tensors do create a bit of overhead (which does pay off at larger bond\n",
    "and environment dimensions):"
   ],
   "metadata": {}
  },
  {
   "outputs": [],
   "cell_type": "code",
   "source": [
    "peps, env, E, info = fixedpoint(\n",
    "    H, peps₀, env₀; boundary_alg, gradient_alg, optimizer_alg, verbosity=3\n",
    ")\n",
    "@show E;"
   ],
   "metadata": {},
   "execution_count": null
  },
  {
   "cell_type": "markdown",
   "source": [
    "Note that for the specified parameters $J = \\Delta = 1$, we simulated the same Hamiltonian as\n",
    "in the Heisenberg example. In that example, with a non-symmetric\n",
    "$D=2$ PEPS simulation, we reached a ground-state energy of around $E_\\text{D=2} = -0.6625\\dots$.\n",
    "Again comparing against [Sandvik's](@cite sandvik_computational_2011) accurate QMC estimate\n",
    "$E_{\\text{ref}}=−0.6694421$, we see that we already got closer to the reference energy."
   ],
   "metadata": {}
  },
  {
   "cell_type": "markdown",
   "source": [
    "---\n",
    "\n",
    "*This notebook was generated using [Literate.jl](https://github.com/fredrikekre/Literate.jl).*"
   ],
   "metadata": {}
  }
 ],
 "nbformat_minor": 3,
 "metadata": {
  "language_info": {
   "file_extension": ".jl",
   "mimetype": "application/julia",
   "name": "julia",
   "version": "1.11.4"
  },
  "kernelspec": {
   "name": "julia-1.11",
   "display_name": "Julia 1.11.4",
   "language": "julia"
  }
 },
 "nbformat": 4
}
