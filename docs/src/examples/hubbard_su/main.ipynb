{
 "cells": [
  {
   "cell_type": "code",
   "execution_count": null,
   "metadata": {},
   "outputs": [],
   "source": [
    "using Markdown #hide"
   ]
  },
  {
   "cell_type": "markdown",
   "metadata": {},
   "source": [
    "# Simple update for the Fermi-Hubbard model at half-filling\n",
    "\n",
    "Once again, we consider the Hubbard model but this time we obtain the ground-state PEPS by\n",
    "imaginary time evolution. In particular, we'll use the `SimpleUpdate` algorithm.\n",
    "As a reminder, we define the Hubbard model as\n",
    "\n",
    "$$\n",
    "H = -t \\sum_{\\langle i,j \\rangle} \\sum_{\\sigma} \\left( c_{i,\\sigma}^+ c_{j,\\sigma}^- -\n",
    "c_{i,\\sigma}^- c_{j,\\sigma}^+ \\right) + U \\sum_i n_{i,\\uparrow}n_{i,\\downarrow} - \\mu \\sum_i n_i\n",
    "$$\n",
    "\n",
    "with $\\sigma \\in \\{\\uparrow,\\downarrow\\}$ and $n_{i,\\sigma} = c_{i,\\sigma}^+ c_{i,\\sigma}^-$.\n",
    "\n",
    "Let's get started by seeding the RNG and importing the required modules:"
   ]
  },
  {
   "cell_type": "code",
   "execution_count": null,
   "metadata": {},
   "outputs": [],
   "source": [
    "using Random\n",
    "using TensorKit, PEPSKit\n",
    "Random.seed!(12329348592498);"
   ]
  },
  {
   "cell_type": "markdown",
   "metadata": {},
   "source": [
    "## Defining the Hamiltonian\n",
    "\n",
    "First, we define the Hubbard model at $t=1$ hopping and $U=6$ using `Trivial` sectors for\n",
    "the particle and spin symmetries, and set $\\mu = U/2$ for half-filling. The model will be\n",
    "constructed on a $2 \\times 2$ unit cell, so we have:"
   ]
  },
  {
   "cell_type": "code",
   "execution_count": null,
   "metadata": {},
   "outputs": [],
   "source": [
    "t = 1\n",
    "U = 6\n",
    "Nr, Nc = 2, 2\n",
    "H = hubbard_model(Float64, Trivial, Trivial, InfiniteSquare(Nr, Nc); t, U, mu = U / 2);\n",
    "physical_space = Vect[fℤ₂](0 => 2, 1 => 2);"
   ]
  },
  {
   "cell_type": "markdown",
   "metadata": {},
   "source": [
    "## Running the simple update algorithm\n",
    "\n",
    "Suppose the goal is to use imaginary-time simple update to optimize a PEPS\n",
    "with bond dimension D = 8, and $2 \\times 2$ unit cells.\n",
    "For a challenging model like the Hubbard model, a naive evolution starting from a\n",
    "random PEPS at D = 8 will almost always produce a sub-optimal state.\n",
    "In this example, we shall demonstrate some common practices to improve SU result.\n",
    "\n",
    "First, we shall use a small D for the random PEPS initialization, which is chosen as 4 here.\n",
    "For convenience, here we work with real tensors with `Float64` entries.\n",
    "The bond weights are still initialized as identity matrices."
   ]
  },
  {
   "cell_type": "code",
   "execution_count": null,
   "metadata": {},
   "outputs": [],
   "source": [
    "virtual_space = Vect[fℤ₂](0 => 2, 1 => 2)\n",
    "peps = InfinitePEPS(rand, Float64, physical_space, virtual_space; unitcell = (Nr, Nc));\n",
    "wts = SUWeight(peps);"
   ]
  },
  {
   "cell_type": "markdown",
   "metadata": {},
   "source": [
    "Starting from the random state, we first use a relatively large evolution time step\n",
    "`dt = 1e-2`. After convergence at D = 4, to avoid stucking at some bad local minimum,\n",
    "we first increase D to 12, and drop it back to D = 8 after a while.\n",
    "Afterwards, we keep D = 8 and gradually decrease `dt` to `1e-4` to improve convergence."
   ]
  },
  {
   "cell_type": "code",
   "execution_count": null,
   "metadata": {},
   "outputs": [],
   "source": [
    "dts = [1.0e-2, 1.0e-2, 1.0e-3, 4.0e-4, 1.0e-4]\n",
    "tols = [1.0e-7, 1.0e-7, 1.0e-8, 1.0e-8, 1.0e-8]\n",
    "Ds = [4, 12, 8, 8, 8]\n",
    "maxiter = 20000\n",
    "\n",
    "for (dt, tol, Dbond) in zip(dts, tols, Ds)\n",
    "    trscheme = truncerror(; atol=1.0e-10) & truncrank(Dbond)\n",
    "    alg = SimpleUpdate(dt, tol, maxiter, trscheme)\n",
    "    global peps, wts, = simpleupdate(\n",
    "        peps, H, alg, wts; bipartite = false, check_interval = 2000\n",
    "    )\n",
    "end"
   ]
  },
  {
   "cell_type": "markdown",
   "metadata": {},
   "source": [
    "## Computing the ground-state energy\n",
    "\n",
    "In order to compute the energy expectation value with evolved PEPS, we need to converge a\n",
    "CTMRG environment on it. We first converge an environment with a small enviroment dimension\n",
    "and then use that to initialize another run with bigger environment dimension. We'll use\n",
    "`trscheme=truncrank(χ)` for that such that the dimension is increased during the second CTMRG\n",
    "run:"
   ]
  },
  {
   "cell_type": "code",
   "execution_count": null,
   "metadata": {},
   "outputs": [],
   "source": [
    "χenv₀, χenv = 6, 16\n",
    "env_space = Vect[fℤ₂](0 => χenv₀ / 2, 1 => χenv₀ / 2)\n",
    "normalize!.(peps.A, Inf)\n",
    "env = CTMRGEnv(rand, Float64, peps, env_space)\n",
    "for χ in [χenv₀, χenv]\n",
    "    global env, = leading_boundary(\n",
    "        env, peps; alg = :sequential, tol = 1.0e-8, maxiter = 50, trscheme = truncrank(χ)\n",
    "    )\n",
    "end"
   ]
  },
  {
   "cell_type": "markdown",
   "metadata": {},
   "source": [
    "We measure the energy by computing the `H` expectation value, where we have to make sure to\n",
    "normalize with respect to the unit cell to obtain the energy per site:"
   ]
  },
  {
   "cell_type": "code",
   "execution_count": null,
   "metadata": {},
   "outputs": [],
   "source": [
    "E = expectation_value(peps, H, env) / (Nr * Nc)\n",
    "@show E;"
   ]
  },
  {
   "cell_type": "markdown",
   "metadata": {},
   "source": [
    "Finally, we can compare the obtained ground-state energy against the literature, namely the\n",
    "QMC estimates from [Qin et al.](@cite qin_benchmark_2016). We find that the results generally\n",
    "agree:"
   ]
  },
  {
   "cell_type": "code",
   "execution_count": null,
   "metadata": {},
   "outputs": [],
   "source": [
    "Es_exact = Dict(0 => -1.62, 2 => -0.176, 4 => 0.8603, 6 => -0.6567, 8 => -0.5243)\n",
    "E_exact = Es_exact[U] - U / 2\n",
    "@show (E - E_exact) / abs(E_exact);"
   ]
  },
  {
   "cell_type": "markdown",
   "metadata": {},
   "source": [
    "---\n",
    "\n",
    "*This notebook was generated using [Literate.jl](https://github.com/fredrikekre/Literate.jl).*"
   ]
  }
 ],
 "metadata": {
  "kernelspec": {
   "display_name": "Julia 1.11.5",
   "language": "julia",
   "name": "julia-1.11"
  },
  "language_info": {
   "file_extension": ".jl",
   "mimetype": "application/julia",
   "name": "julia",
   "version": "1.11.5"
  }
 },
 "nbformat": 4,
 "nbformat_minor": 3
}
