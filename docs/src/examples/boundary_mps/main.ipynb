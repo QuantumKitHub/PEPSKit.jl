{
 "cells": [
  {
   "outputs": [],
   "cell_type": "code",
   "source": [
    "using Markdown #hide"
   ],
   "metadata": {},
   "execution_count": null
  },
  {
   "cell_type": "markdown",
   "source": [
    "# [Boundary MPS contractions of 2D networks] (@id e_boundary_mps)\n",
    "\n",
    "Instead of using CTMRG to contract the network encoding the norm of an infinite PEPS, one\n",
    "can also use so-called [boundary MPS methods](@cite haegeman_diagonalizing_2017) to contract\n",
    "this network. In this example, we will demonstrate how to use [the VUMPS algorithm](@cite\n",
    "vanderstraeten_tangentspace_2019) to do so.\n",
    "\n",
    "Before we start, we'll fix the random seed for reproducability:"
   ],
   "metadata": {}
  },
  {
   "outputs": [],
   "cell_type": "code",
   "source": [
    "using Random\n",
    "Random.seed!(29384293742893);"
   ],
   "metadata": {},
   "execution_count": null
  },
  {
   "cell_type": "markdown",
   "source": [
    "Besides `TensorKit` and `PEPSKit`, here we also need to load the\n",
    "[`MPSKit.jl`](https://quantumkithub.github.io/MPSKit.jl/stable/) package which implements a\n",
    "host of tools for working with 1D matrix product states (MPS), including the VUMPS\n",
    "algorithm:"
   ],
   "metadata": {}
  },
  {
   "outputs": [],
   "cell_type": "code",
   "source": [
    "using TensorKit, PEPSKit, MPSKit"
   ],
   "metadata": {},
   "execution_count": null
  },
  {
   "cell_type": "markdown",
   "source": [
    "## Computing a PEPS norm\n",
    "\n",
    "We start by initializing a random infinite PEPS. Let us use normally distributed complex\n",
    "entries using `randn`:"
   ],
   "metadata": {}
  },
  {
   "outputs": [],
   "cell_type": "code",
   "source": [
    "ψ = InfinitePEPS(randn, ComplexF64, ComplexSpace(2), ComplexSpace(2))"
   ],
   "metadata": {},
   "execution_count": null
  },
  {
   "cell_type": "markdown",
   "source": [
    "To compute its norm, we have to contract a double-layer network which encodes the bra-ket\n",
    "PEPS overlap $\\langle ψ | ψ \\rangle$:\n",
    "\n",
    "\n",
    "<center>\n",
    "<img src=\"../../assets/figures/peps_norm_network.svg\" alt=\"peps norm network\" class=\"color-invertible\" style=\"zoom: 180%\"/>\n",
    "</center>\n",
    "\n",
    "\n",
    "In PEPSKit.jl, this structure is represented as an `InfiniteSquareNetwork` object,\n",
    "whose effective local rank-4 constituent tensor is given by the contraction of a pair of bra\n",
    "and ket `PEPSKit.PEPSTensor`s across their physical legs. Until now, we have always\n",
    "contracted such a network using the CTMRG algorithm. Here however, we will use another\n",
    "approach.\n",
    "\n",
    "If we take out a single row of this infinite norm network, we can interpret it as a 1D\n",
    "row-to-row transfer operator $\\mathbb{T}$,\n",
    "\n",
    "\n",
    "<center>\n",
    "<img src=\"../../assets/figures/peps_transfer_operator.svg\" alt=\"peps transfer operator\" class=\"color-invertible\" style=\"zoom: 180%\"/>\n",
    "</center>\n",
    "\n",
    "\n",
    "This transfer operator can be seen as an infinite chain of the effective local rank-4\n",
    "tensors that make up the PEPS norm network. Since the network we want to contract can be\n",
    "interpreted as the infinite power of $\\mathbb{T}$, we can contract it by finding its\n",
    "leading eigenvector as a 1D MPS $| \\psi_{\\text{MPS}} \\rangle$, which we call the boundary\n",
    "MPS. This boundary MPS should satisfy the eigenvalue equation\n",
    "$\\mathbb{T} | \\psi_{\\text{MPS}} \\rangle \\approx \\Lambda | \\psi_{\\text{MPS}} \\rangle$, or\n",
    "diagrammatically:\n",
    "\n",
    "\n",
    "<center>\n",
    "<img src=\"../../assets/figures/peps_transfer_fixedpoint_equation.svg\" alt=\"peps transfer fixedpoint equation\" class=\"color-invertible\" style=\"zoom: 180%\"/>\n",
    "</center>\n",
    "\n",
    "\n",
    "Note that if $\\mathbb{T}$ is Hermitian, we can formulate this eigenvalue equation in terms of a\n",
    "variational problem for the free energy,\n",
    "\n",
    "$$\n",
    "\\begin{align}\n",
    "f &= \\lim_{N \\to ∞} - \\frac{1}{N} \\log \\left( \\frac{\\langle \\psi_{\\text{MPS}} | \\mathbb{T} | \\psi_{\\text{MPS}} \\rangle}{\\langle \\psi_{\\text{MPS}} | \\psi_{\\text{MPS}} \\rangle} \\right),\n",
    "\\\\\n",
    "&= -\\log(\\lambda)\n",
    "\\end{align}\n",
    "$$\n",
    "\n",
    "where $\\lambda = \\Lambda^{1/N}$ is the 'eigenvalue per site' of $\\mathbb{T}$, giving\n",
    "$f$ the meaning of a free energy density.\n",
    "\n",
    "Since the contraction of a PEPS norm network is in essence exactly the same problem as the\n",
    "contraction of a 2D classical partition function, we can directly use boundary MPS\n",
    "algorithms designed for 2D statistical mechanics models in this context. In particular,\n",
    "we'll use the [the VUMPS algorithm](@cite vanderstraeten_tangentspace_2019) to perform the\n",
    "boundary MPS contraction, and we'll call it through the `leading_boundary` method\n",
    "from MPSKit.jl. This method precisely finds the MPS fixed point of a 1D transfer operator.\n",
    "\n",
    "## Boundary MPS contractions with PEPSKit.jl\n",
    "\n",
    "To use `leading_boundary`, we first need to contruct the transfer operator\n",
    "$\\mathbb{T}$ as an `MPSKit.InfiniteMPO` object. In PEPSKit.jl, we can directly\n",
    "construct the transfer operator corresponding to a PEPS norm network from a given infinite\n",
    "PEPS as an `InfiniteTransferPEPS` object, which is a specific kind of\n",
    "`MPSKit.InfiniteMPO`.\n",
    "\n",
    "To construct a 1D transfer operator from a 2D PEPS state, we need to specify which direction\n",
    "should be facing north (`dir=1` corresponding to north, counting clockwise) and which row of\n",
    "the network is selected from the north - but since we have a trivial unit cell there is only\n",
    "one row here:"
   ],
   "metadata": {}
  },
  {
   "outputs": [],
   "cell_type": "code",
   "source": [
    "dir = 1 ## does not rotate the partition function\n",
    "row = 1\n",
    "T = InfiniteTransferPEPS(ψ, dir, row)"
   ],
   "metadata": {},
   "execution_count": null
  },
  {
   "cell_type": "markdown",
   "source": [
    "Since we'll find the leading eigenvector of $\\mathbb{T}$ as a boundary MPS, we first need\n",
    "to construct an initial guess to supply to our algorithm. We can do this using the\n",
    "`initialize_mps` function, which constructs a random MPS with a specific virtual\n",
    "space for a given transfer operator. Here, we'll build an initial guess for the boundary MPS\n",
    "with a bond dimension of 20:"
   ],
   "metadata": {}
  },
  {
   "outputs": [],
   "cell_type": "code",
   "source": [
    "mps₀ = initialize_mps(T, [ComplexSpace(20)])"
   ],
   "metadata": {},
   "execution_count": null
  },
  {
   "cell_type": "markdown",
   "source": [
    "Note that this will just construct a MPS with random Gaussian entries based on the physical\n",
    "spaces of the supplied transfer operator. Of course, one might come up with a better initial\n",
    "guess (leading to better convergence) depending on the application. To find the leading\n",
    "boundary MPS fixed point, we call `leading_boundary` using the\n",
    "`MPSKit.VUMPS` algorithm:"
   ],
   "metadata": {}
  },
  {
   "outputs": [],
   "cell_type": "code",
   "source": [
    "mps, env, ϵ = leading_boundary(mps₀, T, VUMPS(; tol = 1.0e-6, verbosity = 2));"
   ],
   "metadata": {},
   "execution_count": null
  },
  {
   "cell_type": "markdown",
   "source": [
    "The norm of the state per unit cell is then given by the expectation value\n",
    "$\\langle \\psi_\\text{MPS} | \\mathbb{T} | \\psi_\\text{MPS} \\rangle$ per site:"
   ],
   "metadata": {}
  },
  {
   "outputs": [],
   "cell_type": "code",
   "source": [
    "norm_vumps = abs(prod(expectation_value(mps, T)))"
   ],
   "metadata": {},
   "execution_count": null
  },
  {
   "cell_type": "markdown",
   "source": [
    "This can be compared to the result obtained using CTMRG, where we see that the results\n",
    "match:"
   ],
   "metadata": {}
  },
  {
   "outputs": [],
   "cell_type": "code",
   "source": [
    "env_ctmrg, = leading_boundary(CTMRGEnv(ψ, ComplexSpace(20)), ψ; tol = 1.0e-6, verbosity = 2)\n",
    "norm_ctmrg = abs(norm(ψ, env_ctmrg))\n",
    "@show abs(norm_vumps - norm_ctmrg) / norm_vumps;"
   ],
   "metadata": {},
   "execution_count": null
  },
  {
   "cell_type": "markdown",
   "source": [
    "## Working with unit cells\n",
    "\n",
    "For PEPS with non-trivial unit cells, the principle is exactly the same. The only difference\n",
    "is that now the transfer operator of the PEPS norm partition function has multiple rows or\n",
    "'lines', each of which can be represented by an `InfiniteTransferPEPS` object. Such\n",
    "a multi-line transfer operator is represented by a `PEPSKit.MultilineTransferPEPS`\n",
    "object. In this case, the boundary MPS is an `MultilineMPS` object, which should\n",
    "be initialized by specifying a virtual space for each site in the partition function unit\n",
    "cell.\n",
    "\n",
    "First, we construct a PEPS with a $2 \\times 2$ unit cell using the `unitcell` keyword\n",
    "argument and then define the corresponding transfer operator, where we again specify the\n",
    "direction which will be facing north:"
   ],
   "metadata": {}
  },
  {
   "outputs": [],
   "cell_type": "code",
   "source": [
    "ψ_2x2 = InfinitePEPS(rand, ComplexF64, ComplexSpace(2), ComplexSpace(2); unitcell = (2, 2))\n",
    "T_2x2 = PEPSKit.MultilineTransferPEPS(ψ_2x2, dir);"
   ],
   "metadata": {},
   "execution_count": null
  },
  {
   "cell_type": "markdown",
   "source": [
    "Now, the procedure is the same as before: We compute the norm once using VUMPS, once using CTMRG and then compare."
   ],
   "metadata": {}
  },
  {
   "outputs": [],
   "cell_type": "code",
   "source": [
    "mps₀_2x2 = initialize_mps(T_2x2, fill(ComplexSpace(20), 2, 2))\n",
    "mps_2x2, = leading_boundary(mps₀_2x2, T_2x2, VUMPS(; tol = 1.0e-6, verbosity = 2))\n",
    "norm_2x2_vumps = abs(prod(expectation_value(mps_2x2, T_2x2)))\n",
    "\n",
    "env_ctmrg_2x2, = leading_boundary(\n",
    "    CTMRGEnv(ψ_2x2, ComplexSpace(20)), ψ_2x2; tol = 1.0e-6, verbosity = 2\n",
    ")\n",
    "norm_2x2_ctmrg = abs(norm(ψ_2x2, env_ctmrg_2x2))\n",
    "\n",
    "@show abs(norm_2x2_vumps - norm_2x2_ctmrg) / norm_2x2_vumps;"
   ],
   "metadata": {},
   "execution_count": null
  },
  {
   "cell_type": "markdown",
   "source": [
    "Again, the results are compatible. Note that for larger unit cells and non-Hermitian PEPS\n",
    "[the VUMPS algorithm may become unstable](@cite vanderstraeten_variational_2022), in which\n",
    "case the CTMRG algorithm is recommended.\n",
    "\n",
    "## Contracting PEPO overlaps\n",
    "\n",
    "Using exactly the same machinery, we can contract 2D networks which encode the expectation\n",
    "value of a PEPO for a given PEPS state. As an example, we can consider the overlap of the\n",
    "PEPO correponding to the partition function of 3D classical Ising model\n",
    "with our random PEPS from before and evaluate the overlap $\\langle \\psi |\n",
    "T | \\psi \\rangle$.\n",
    "\n",
    "The classical Ising PEPO is defined as follows:"
   ],
   "metadata": {}
  },
  {
   "outputs": [],
   "cell_type": "code",
   "source": [
    "function ising_pepo(β; unitcell = (1, 1, 1))\n",
    "    t = ComplexF64[exp(β) exp(-β); exp(-β) exp(β)]\n",
    "    q = sqrt(t)\n",
    "\n",
    "    O = zeros(2, 2, 2, 2, 2, 2)\n",
    "    O[1, 1, 1, 1, 1, 1] = 1\n",
    "    O[2, 2, 2, 2, 2, 2] = 1\n",
    "    @tensor o[-1 -2; -3 -4 -5 -6] :=\n",
    "        O[1 2; 3 4 5 6] * q[-1; 1] * q[-2; 2] * q[-3; 3] * q[-4; 4] * q[-5; 5] * q[-6; 6]\n",
    "    O = TensorMap(o, ℂ^2 ⊗ (ℂ^2)' ← ℂ^2 ⊗ ℂ^2 ⊗ (ℂ^2)' ⊗ (ℂ^2)')\n",
    "\n",
    "    return InfinitePEPO(O; unitcell)\n",
    "end;"
   ],
   "metadata": {},
   "execution_count": null
  },
  {
   "cell_type": "markdown",
   "source": [
    "To evaluate the overlap, we instantiate the PEPO and the corresponding `InfiniteTransferPEPO`\n",
    "in the right direction, on the right row of the partition function (trivial here):"
   ],
   "metadata": {}
  },
  {
   "outputs": [],
   "cell_type": "code",
   "source": [
    "T = ising_pepo(1)\n",
    "transfer_pepo = InfiniteTransferPEPO(ψ, T, 1, 1)"
   ],
   "metadata": {},
   "execution_count": null
  },
  {
   "cell_type": "markdown",
   "source": [
    "As before, we converge the boundary MPS using VUMPS and then compute the expectation value:"
   ],
   "metadata": {}
  },
  {
   "outputs": [],
   "cell_type": "code",
   "source": [
    "mps₀_pepo = initialize_mps(transfer_pepo, [ComplexSpace(20)])\n",
    "mps_pepo, = leading_boundary(mps₀_pepo, transfer_pepo, VUMPS(; tol = 1.0e-6, verbosity = 2))\n",
    "norm_pepo = abs(prod(expectation_value(mps_pepo, transfer_pepo)));\n",
    "@show norm_pepo;"
   ],
   "metadata": {},
   "execution_count": null
  },
  {
   "cell_type": "markdown",
   "source": [
    "These objects and routines can be used to optimize PEPS fixed points of 3D partition\n",
    "functions, see for example [Vanderstraeten et al.](@cite vanderstraeten_residual_2018)"
   ],
   "metadata": {}
  },
  {
   "cell_type": "markdown",
   "source": [
    "---\n",
    "\n",
    "*This notebook was generated using [Literate.jl](https://github.com/fredrikekre/Literate.jl).*"
   ],
   "metadata": {}
  }
 ],
 "nbformat_minor": 3,
 "metadata": {
  "language_info": {
   "file_extension": ".jl",
   "mimetype": "application/julia",
   "name": "julia",
   "version": "1.11.5"
  },
  "kernelspec": {
   "name": "julia-1.11",
   "display_name": "Julia 1.11.5",
   "language": "julia"
  }
 },
 "nbformat": 4
}
