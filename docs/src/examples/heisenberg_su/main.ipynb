{
 "cells": [
  {
   "outputs": [],
   "cell_type": "code",
   "source": [
    "using Markdown #hide"
   ],
   "metadata": {},
   "execution_count": null
  },
  {
   "cell_type": "markdown",
   "source": [
    "# Simple update for the Heisenberg model\n",
    "\n",
    "In this example, we will use `SimpleUpdate` imaginary time evolution to treat\n",
    "the two-dimensional Heisenberg model once again:\n",
    "\n",
    "$$\n",
    "H = \\sum_{\\langle i,j \\rangle} J_x S^{x}_i S^{x}_j + J_y S^{y}_i S^{y}_j + J_z S^{z}_i S^{z}_j.\n",
    "$$\n",
    "\n",
    "In order to simulate the antiferromagnetic order of the Hamiltonian on a single-site unit\n",
    "cell one typically applies a unitary sublattice rotation. Here, we will instead use a\n",
    "$2 \\times 2$ unit cell and set $J_x = J_y = J_z = 1$.\n",
    "\n",
    "Let's get started by seeding the RNG and importing all required modules:"
   ],
   "metadata": {}
  },
  {
   "outputs": [],
   "cell_type": "code",
   "source": [
    "using Random\n",
    "import Statistics: mean\n",
    "using TensorKit, PEPSKit\n",
    "import MPSKitModels: S_x, S_y, S_z, S_exchange\n",
    "Random.seed!(0);"
   ],
   "metadata": {},
   "execution_count": null
  },
  {
   "cell_type": "markdown",
   "source": [
    "## Defining the Hamiltonian\n",
    "\n",
    "To construct the Heisenberg Hamiltonian as just discussed, we'll use `heisenberg_XYZ` and,\n",
    "in addition, make it real (`real` and `imag` works for `LocalOperator`s) since we want to\n",
    "use PEPS and environments with real entries. We can either initialize the Hamiltonian with\n",
    "no internal symmetries (`symm = Trivial`) or use the global $U(1)$ symmetry\n",
    "(`symm = U1Irrep`):"
   ],
   "metadata": {}
  },
  {
   "outputs": [],
   "cell_type": "code",
   "source": [
    "symm = Trivial ## ∈ {Trivial, U1Irrep}\n",
    "Nr, Nc = 2, 2\n",
    "H = real(heisenberg_XYZ(ComplexF64, symm, InfiniteSquare(Nr, Nc); Jx=1, Jy=1, Jz=1));"
   ],
   "metadata": {},
   "execution_count": null
  },
  {
   "cell_type": "markdown",
   "source": [
    "## Simple updating\n",
    "\n",
    "We proceed by initializing a random weighted PEPS that will be evolved. First though, we\n",
    "need to define the appropriate (symmetric) spaces:"
   ],
   "metadata": {}
  },
  {
   "outputs": [],
   "cell_type": "code",
   "source": [
    "Dbond = 4\n",
    "χenv = 16\n",
    "if symm == Trivial\n",
    "    physical_space = ℂ^2\n",
    "    bond_space = ℂ^Dbond\n",
    "    env_space = ℂ^χenv\n",
    "elseif symm == U1Irrep\n",
    "    physical_space = ℂ[U1Irrep](1//2 => 1, -1//2 => 1)\n",
    "    bond_space = ℂ[U1Irrep](0 => Dbond ÷ 2, 1//2 => Dbond ÷ 4, -1//2 => Dbond ÷ 4)\n",
    "    env_space = ℂ[U1Irrep](0 => χenv ÷ 2, 1//2 => χenv ÷ 4, -1//2 => χenv ÷ 4)\n",
    "else\n",
    "    error(\"not implemented\")\n",
    "end\n",
    "\n",
    "wpeps = InfiniteWeightPEPS(rand, Float64, physical_space, bond_space; unitcell=(Nr, Nc));"
   ],
   "metadata": {},
   "execution_count": null
  },
  {
   "cell_type": "markdown",
   "source": [
    "Next, we can start the `SimpleUpdate` routine, successively decreasing the time intervals\n",
    "and singular value convergence tolerances. Note that TensorKit allows to combine SVD\n",
    "truncation schemes, which we use here to set a maximal bond dimension and at the same time\n",
    "fix a truncation error (if that can be reached by remaining below `Dbond`):"
   ],
   "metadata": {}
  },
  {
   "outputs": [],
   "cell_type": "code",
   "source": [
    "dts = [1e-2, 1e-3, 4e-4]\n",
    "tols = [1e-6, 1e-8, 1e-8]\n",
    "maxiter = 10000\n",
    "trscheme_peps = truncerr(1e-10) & truncdim(Dbond)\n",
    "\n",
    "for (dt, tol) in zip(dts, tols)\n",
    "    alg = SimpleUpdate(dt, tol, maxiter, trscheme_peps)\n",
    "    result = simpleupdate(wpeps, H, alg; bipartite=true)\n",
    "    global wpeps = result[1]\n",
    "end"
   ],
   "metadata": {},
   "execution_count": null
  },
  {
   "cell_type": "markdown",
   "source": [
    "## Computing the ground-state energy and magnetizations\n",
    "\n",
    "In order to compute observable expectation values, we need to converge a CTMRG environment\n",
    "on the evolved PEPS. Let's do so:"
   ],
   "metadata": {}
  },
  {
   "outputs": [],
   "cell_type": "code",
   "source": [
    "peps = InfinitePEPS(wpeps) ## absorb the weights\n",
    "env₀ = CTMRGEnv(rand, Float64, peps, env_space)\n",
    "trscheme_env = truncerr(1e-10) & truncdim(χenv)\n",
    "env, = leading_boundary(\n",
    "    env₀,\n",
    "    peps;\n",
    "    alg=:sequential,\n",
    "    projector_alg=:fullinfinite,\n",
    "    tol=1e-10,\n",
    "    trscheme=trscheme_env,\n",
    ");"
   ],
   "metadata": {},
   "execution_count": null
  },
  {
   "cell_type": "markdown",
   "source": [
    "Finally, we'll measure the energy and different magnetizations. For the magnetizations,\n",
    "the plan is to compute the expectation values unit cell entry-wise in different spin\n",
    "directions:"
   ],
   "metadata": {}
  },
  {
   "outputs": [],
   "cell_type": "code",
   "source": [
    "function compute_mags(peps::InfinitePEPS, env::CTMRGEnv)\n",
    "    lattice = collect(space(t, 1) for t in peps.A)\n",
    "\n",
    "    # detect symmetry on physical axis\n",
    "    symm = sectortype(space(peps.A[1, 1]))\n",
    "    if symm == Trivial\n",
    "        S_ops = real.([S_x(symm), im * S_y(symm), S_z(symm)])\n",
    "    elseif symm == U1Irrep\n",
    "        S_ops = real.([S_z(symm)]) ## only Sz preserves <Sz>\n",
    "    end\n",
    "\n",
    "    return map(Iterators.product(axes(peps, 1), axes(peps, 2), S_ops)) do (r, c, S)\n",
    "        expectation_value(peps, LocalOperator(lattice, (CartesianIndex(r, c),) => S), env)\n",
    "    end\n",
    "end\n",
    "\n",
    "E = expectation_value(peps, H, env) / (Nr * Nc)\n",
    "Ms = compute_mags(peps, env)\n",
    "M_norms = map(\n",
    "    rc -> norm(Ms[rc[1], rc[2], :]), Iterators.product(axes(peps, 1), axes(peps, 2))\n",
    ")\n",
    "@show E Ms M_norms;"
   ],
   "metadata": {},
   "execution_count": null
  },
  {
   "cell_type": "markdown",
   "source": [
    "To assess the results, we will benchmark against data from [Corboz](@cite corboz_variational_2016),\n",
    "which use manual gradients to perform a variational optimization of the Heisenberg model.\n",
    "In particular, for the energy and magnetization they find $E_\\text{ref} = -0.6675$ and\n",
    "$M_\\text{ref} = 0.3767$. Looking at the relative errors, we find general agreement, although\n",
    "the accuracy is limited by the methodological limitations of the simple update algorithm as\n",
    "well as finite bond dimension effects and a lacking extrapolation:"
   ],
   "metadata": {}
  },
  {
   "outputs": [],
   "cell_type": "code",
   "source": [
    "E_ref = -0.6675\n",
    "M_ref = 0.3767\n",
    "@show (E - E_ref) / E_ref\n",
    "@show (mean(M_norms) - M_ref) / E_ref;"
   ],
   "metadata": {},
   "execution_count": null
  },
  {
   "cell_type": "markdown",
   "source": [
    "---\n",
    "\n",
    "*This notebook was generated using [Literate.jl](https://github.com/fredrikekre/Literate.jl).*"
   ],
   "metadata": {}
  }
 ],
 "nbformat_minor": 3,
 "metadata": {
  "language_info": {
   "file_extension": ".jl",
   "mimetype": "application/julia",
   "name": "julia",
   "version": "1.11.4"
  },
  "kernelspec": {
   "name": "julia-1.11",
   "display_name": "Julia 1.11.4",
   "language": "julia"
  }
 },
 "nbformat": 4
}
