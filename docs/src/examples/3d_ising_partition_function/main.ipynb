{
 "cells": [
  {
   "outputs": [],
   "cell_type": "code",
   "source": [
    "using Markdown #hide"
   ],
   "metadata": {},
   "execution_count": null
  },
  {
   "cell_type": "markdown",
   "source": [
    "# The 3D classical Ising model\n",
    "\n",
    "In a previous example we have already demonstrated an application of PEPSKit.jl to the study\n",
    "of 2D classical statistical mechanics models. In this example, we will take this one step\n",
    "further, and showcase how one can use PEPSKit.jl to study 3D classical statistical mechanics\n",
    "models. We will demonstrate this for the specific case of the 3D classical Ising model, but\n",
    "the same techniques can be applied to other 3D classical models as well.\n",
    "\n",
    "The workflow showcased in this example is a bit more experimental and less 'black-box' than\n",
    "previous examples. Therefore it also serves as a demonstration of some of the more internal\n",
    "functionality of PEPSKit.jl, and how one can adapt it to less 'standard' kinds of problems.\n",
    "\n",
    "Let us consider again the partition function of the classical Ising model,\n",
    "\n",
    "$$\n",
    "\\mathcal{Z}(\\beta) = \\sum_{\\{s\\}} \\exp(-\\beta H(s)) \\text{ with } H(s) = -J \\sum_{\\langle i, j \\rangle} s_i s_j .\n",
    "$$\n",
    "\n",
    "where now the classical spins $s_i \\in \\{+1, -1\\}$ are located on the vertices $i$ of a 3D\n",
    "cubic lattice. The partition function of this model can be represented as a 3D tensor\n",
    "network with a rank-6 tensor at each vertex of the lattice. Such a network can be contracted\n",
    "by finding the fixed point of the corresponding transfer operator, in exactly the same\n",
    "spirit as the boundary MPS methods demonstrated in another example.\n",
    "\n",
    "Let's start by making the example deterministic and we doing our imports:"
   ],
   "metadata": {}
  },
  {
   "outputs": [],
   "cell_type": "code",
   "source": [
    "using Random\n",
    "using LinearAlgebra\n",
    "using PEPSKit, TensorKit\n",
    "using KrylovKit, OptimKit, Zygote\n",
    "\n",
    "Random.seed!(81812781144);"
   ],
   "metadata": {},
   "execution_count": null
  },
  {
   "cell_type": "markdown",
   "source": [
    "## Defining the partition function\n",
    "\n",
    "Just as in the 2D case, the first step is to define the partition function as a tensor\n",
    "network. The procedure is exactly the same as before, the only difference being that now\n",
    "every spin participates in interactions associated to six links adjacent to that site. This\n",
    "means that the partition function can be written as an infinite 3D network with a single\n",
    "constituent rank-6 `PEPSKit.PEPOTensor` `O` located at each site of the cubic\n",
    "lattice. To verify our example we will check the magnetization and energy, so we also define\n",
    "the corresponding rank-6 tensors `M` and `E` while we're at it."
   ],
   "metadata": {}
  },
  {
   "outputs": [],
   "cell_type": "code",
   "source": [
    "function three_dimensional_classical_ising(; beta, J=1.0)\n",
    "    K = beta * J\n",
    "\n",
    "    # Boltzmann weights\n",
    "    t = ComplexF64[exp(K) exp(-K); exp(-K) exp(K)]\n",
    "    r = eigen(t)\n",
    "    q = r.vectors * sqrt(LinearAlgebra.Diagonal(r.values)) * r.vectors\n",
    "\n",
    "    # local partition function tensor\n",
    "    O = zeros(2, 2, 2, 2, 2, 2)\n",
    "    O[1, 1, 1, 1, 1, 1] = 1\n",
    "    O[2, 2, 2, 2, 2, 2] = 1\n",
    "    @tensor o[-1 -2; -3 -4 -5 -6] :=\n",
    "        O[1 2; 3 4 5 6] * q[-1; 1] * q[-2; 2] * q[-3; 3] * q[-4; 4] * q[-5; 5] * q[-6; 6]\n",
    "\n",
    "    # magnetization tensor\n",
    "    M = copy(O)\n",
    "    M[2, 2, 2, 2, 2, 2] *= -1\n",
    "    @tensor m[-1 -2; -3 -4 -5 -6] :=\n",
    "        M[1 2; 3 4 5 6] * q[-1; 1] * q[-2; 2] * q[-3; 3] * q[-4; 4] * q[-5; 5] * q[-6; 6]\n",
    "\n",
    "    # bond interaction tensor and energy-per-site tensor\n",
    "    e = ComplexF64[-J J; J -J] .* q\n",
    "    @tensor e_x[-1 -2; -3 -4 -5 -6] :=\n",
    "        O[1 2; 3 4 5 6] * q[-1; 1] * q[-2; 2] * q[-3; 3] * e[-4; 4] * q[-5; 5] * q[-6; 6]\n",
    "    @tensor e_y[-1 -2; -3 -4 -5 -6] :=\n",
    "        O[1 2; 3 4 5 6] * q[-1; 1] * q[-2; 2] * e[-3; 3] * q[-4; 4] * q[-5; 5] * q[-6; 6]\n",
    "    @tensor e_z[-1 -2; -3 -4 -5 -6] :=\n",
    "        O[1 2; 3 4 5 6] * e[-1; 1] * q[-2; 2] * q[-3; 3] * q[-4; 4] * q[-5; 5] * q[-6; 6]\n",
    "    e = e_x + e_y + e_z\n",
    "\n",
    "    # fixed tensor map space for all three\n",
    "    TMS = ℂ^2 ⊗ (ℂ^2)' ← ℂ^2 ⊗ ℂ^2 ⊗ (ℂ^2)' ⊗ (ℂ^2)'\n",
    "\n",
    "    return TensorMap(o, TMS), TensorMap(m, TMS), TensorMap(e, TMS)\n",
    "end;"
   ],
   "metadata": {},
   "execution_count": null
  },
  {
   "cell_type": "markdown",
   "source": [
    "Let's initialize these tensors at inverse temperature $\\beta=0.2391$, which corresponds to\n",
    "a slightly lower temperature than the critical value $\\beta_c=0.2216544…$"
   ],
   "metadata": {}
  },
  {
   "outputs": [],
   "cell_type": "code",
   "source": [
    "beta = 0.2391\n",
    "O, M, E = three_dimensional_classical_ising(; beta)\n",
    "O isa PEPSKit.PEPOTensor"
   ],
   "metadata": {},
   "execution_count": null
  },
  {
   "cell_type": "markdown",
   "source": [
    "## Contracting the partition function\n",
    "\n",
    "To contract our infinite 3D partition function, we first reinterpret it as an infinite power\n",
    "of a slice-to-slice transfer operator $T$, where $T$ can be seen as an infinite 2D\n",
    "projected entangled-pair operator (PEPO) which consists of the rank-6 tensor `O` at each\n",
    "site of an infinite 2D square lattice. In the same spirit as the boundary MPS approach, all\n",
    "we need to contract the whole partition function is to find the leading eigenvector of this\n",
    "PEPO. The fixed point of such a PEPO exactly corresponds to a PEPS, and for the case of a\n",
    "Hermitian transfer operator we can find this PEPS through [variational optimization](@cite\n",
    "vanderstraeten_residual_2018).\n",
    "\n",
    "Indeed, for a Hermition transfer operator $T$ we can formulate the eigenvalue equation as\n",
    "for a fixed point PEPS $|\\psi\\rangle$ as a variational problem\n",
    "\n",
    "$$\n",
    "|\\psi\\rangle = \\text{argmin}_{|\\psi\\rangle} \\left ( \\lim_{N \\to ∞} - \\frac{1}{N} \\log \\left( \\frac{\\langle \\psi | T | \\psi \\rangle}{\\langle \\psi | \\psi \\rangle} \\right) \\right )\n",
    "$$\n",
    "where $N$ is the diverging number of sites of the 2D transfer operator $T$.\n",
    "\n",
    "### Defining the cost function\n",
    "\n",
    "Using PEPSKit.jl, this cost function and its gradient can be easily computed, after which we\n",
    "can use [OptimKit.jl](https://github.com/Jutho/OptimKit.jl) to actually optimize it. We can\n",
    "immediately recognize the denominator $\\langle \\psi | \\psi \\rangle$ as the familiar PEPS\n",
    "norm, where we can compute the norm per site as the `network_value` of the\n",
    "corresponding `InfiniteSquareNetwork` by contracting it with the CTMRG algorithm.\n",
    "Similarly, the numerator $\\langle \\psi | T | \\psi \\rangle$ is nothing more than an\n",
    "`InfiniteSquareNetwork` consisting of three layers corresponding to the ket, transfer\n",
    "operator and bra objects. This object can also be constructed and contracted in a\n",
    "straightforward way, after we can again compute its `network_value`.\n",
    "\n",
    "So to define our cost function, we just need to construct the transfer operator as an\n",
    "`InfinitePEPO`, contruct the both relevant infinite 2D contractible networks from\n",
    "the current PEPS and this transfer operator, and specify a contraction algorithm we can use\n",
    "to compute the values of these two networks. In addition, we'll specify the specific reverse\n",
    "rule algorithm that will be used to compute the gradient of this cost function."
   ],
   "metadata": {}
  },
  {
   "outputs": [],
   "cell_type": "code",
   "source": [
    "boundary_alg = SimultaneousCTMRG(; maxiter=150, tol=1e-8, verbosity=1)\n",
    "rrule_alg = EigSolver(;\n",
    "    solver_alg=KrylovKit.Arnoldi(; maxiter=30, tol=1e-6, eager=true), iterscheme=:diffgauge\n",
    ")\n",
    "T = InfinitePEPO(O)\n",
    "\n",
    "function pepo_costfun((psi, env2, env3))\n",
    "    # use Zygote to compute the gradient automatically\n",
    "    E, gs = withgradient(psi) do ψ\n",
    "        # construct the PEPS norm network\n",
    "        n2 = InfiniteSquareNetwork(ψ)\n",
    "        # contract this network\n",
    "        env2′, info = PEPSKit.hook_pullback(\n",
    "            leading_boundary, env2, n2, boundary_alg; alg_rrule=rrule_alg\n",
    "        )\n",
    "        # construct the PEPS-PEPO-PEPS overlap network\n",
    "        n3 = InfiniteSquareNetwork(ψ, T)\n",
    "        # contract this network\n",
    "        env3′, info = PEPSKit.hook_pullback(\n",
    "            leading_boundary, env3, n3, boundary_alg; alg_rrule=rrule_alg\n",
    "        )\n",
    "        # update the environments for reuse\n",
    "        PEPSKit.ignore_derivatives() do\n",
    "            PEPSKit.update!(env2, env2′)\n",
    "            PEPSKit.update!(env3, env3′)\n",
    "        end\n",
    "        # compute the network values per site\n",
    "        λ3 = network_value(n3, env3)\n",
    "        λ2 = network_value(n2, env2)\n",
    "        # use this to compute the actual cost function\n",
    "        return -log(real(λ3 / λ2))\n",
    "    end\n",
    "    g = only(gs)\n",
    "    return E, g\n",
    "end;"
   ],
   "metadata": {},
   "execution_count": null
  },
  {
   "cell_type": "markdown",
   "source": [
    "There are a few things to note about this cost function definition. Since we will pass it to\n",
    "the `OptimKit.optimize`, we require it to return both our cost function and the\n",
    "corresponding gradient. To do this, we simply use the `withgradient` method from Zygote.jl\n",
    "to automatically compute the gradient of the cost function straight from the primal\n",
    "computation. Since our cost function involves contractions using `leading_boundary`, we also\n",
    "have to specify exactly how Zygote should handle the backpropagation of the gradient through\n",
    "this function. This can be done using the `PEPSKit.hook_pullback` function from\n",
    "PEPSKit.jl, which allows to hook into the pullback of a given function by specifying a\n",
    "specific algorithm for the pullback computation. Here, we opted to use an Arnoldi method to\n",
    "solve the linear problem defining the gradient of the network contraction at its fixed\n",
    "point. This is exactly the workflow underlying `PEPSKit.fixedpoint` internally, and\n",
    "more info on particular gradient algorithms can be found in the corresponding docstring.\n",
    "\n",
    "### Characterizing the optimization manifold\n",
    "\n",
    "In order to make the best use of OptimKit.jl, we should specify some properties of the\n",
    "manifold on which we are optimizing. Looking at our cost function defined above, a point on\n",
    "our optimization manifold corresponds to a `Tuple` of three objects. The first is an\n",
    "`InfinitePEPS` encoding the fixed point we are actually optimizing, while the second and\n",
    "third are `CTMRGEnv` objects corresponding to the environments of the double and triple\n",
    "layer networks $\\langle \\psi | \\psi \\rangle$ and $\\langle \\psi | T | \\psi \\rangle$\n",
    "respectively. While the environments are just there so we can reuse them between subsequent\n",
    "contractions and we don't need to think about them much, optimizing over the manifold of\n",
    "`InfinitePEPS` requires a bit more care.\n",
    "\n",
    "In particular, we need to define two kinds of operations on this manifold: a retraction and\n",
    "a transport. The retraction, corresponding to the `retract` keyword argument of\n",
    "`OptimKit.optimize`, specifies how to move from a point on a manifold along a given descent\n",
    "direction to obtain a new manifold point. The transport, corresponding to the `transport!`\n",
    "keyword argument of `OptimKit.optimize`, specifies how to transport a descent direction at a\n",
    "given manifold point to a valid descent direction at a different manifold point according to\n",
    "the appropriate metric. In PEPSKit.jl, these two procedures are defined through the\n",
    "`PEPSKit.peps_retract` and `PEPSKit.peps_transport!` methods. While it is\n",
    "instructive to read the corresponding docstrings in order to understand what these actually\n",
    "do, here we can just blindly reuse them where the only difference is that we have to pass\n",
    "along an extra environment since our cost function requires two distinct contractions as\n",
    "opposed to the setting of Hamiltonian PEPS optimization."
   ],
   "metadata": {}
  },
  {
   "outputs": [],
   "cell_type": "code",
   "source": [
    "function pepo_retract(x, η, α)\n",
    "    x´_partial, ξ = PEPSKit.peps_retract(x[1:2], η, α)\n",
    "    x´ = (x´_partial..., deepcopy(x[3]))\n",
    "    return x´, ξ\n",
    "end\n",
    "function pepo_transport!(ξ, x, η, α, x´)\n",
    "    return PEPSKit.peps_transport!(ξ, x[1:2], η, α, x´[1:2])\n",
    "end;"
   ],
   "metadata": {},
   "execution_count": null
  },
  {
   "cell_type": "markdown",
   "source": [
    "### Finding the fixed point\n",
    "\n",
    "All that is left then is to specify the virtual spaces of the PEPS and the two environments,\n",
    "initialize them in the appropriate way, choose an optimization algortithm and call the\n",
    "`optimize` function from OptimKit.jl to get our desired PEPS fixed point."
   ],
   "metadata": {}
  },
  {
   "outputs": [],
   "cell_type": "code",
   "source": [
    "Vpeps = ℂ^2\n",
    "Venv = ℂ^12\n",
    "\n",
    "psi0 = initializePEPS(T, Vpeps)\n",
    "env2_0 = CTMRGEnv(InfiniteSquareNetwork(psi0), Venv)\n",
    "env3_0 = CTMRGEnv(InfiniteSquareNetwork(psi0, T), Venv)\n",
    "\n",
    "optimizer_alg = LBFGS(32; maxiter=100, gradtol=1e-5, verbosity=3)\n",
    "\n",
    "(psi_final, env2_final, env3_final), f, = optimize(\n",
    "    pepo_costfun,\n",
    "    (psi0, env2_0, env3_0),\n",
    "    optimizer_alg;\n",
    "    inner=PEPSKit.real_inner,\n",
    "    retract=pepo_retract,\n",
    "    (transport!)=(pepo_transport!),\n",
    ");"
   ],
   "metadata": {},
   "execution_count": null
  },
  {
   "cell_type": "markdown",
   "source": [
    "### Verifying the result\n",
    "\n",
    "Having found the fixed point, we have essentially contracted the entire partition function\n",
    "and we can start computing observables. The free energy per site for example is just given by\n",
    "the final value of the cost function we have just optimized."
   ],
   "metadata": {}
  },
  {
   "outputs": [],
   "cell_type": "code",
   "source": [
    "@show f"
   ],
   "metadata": {},
   "execution_count": null
  },
  {
   "cell_type": "markdown",
   "source": [
    "As another check, we can compute the magnetization per site and compare it to a [reference\n",
    "value obtaind through Monte-Carlo simulations](@cite hasenbusch_monte_2001)."
   ],
   "metadata": {}
  },
  {
   "outputs": [],
   "cell_type": "code",
   "source": [
    "n3_final = InfiniteSquareNetwork(psi_final, T)\n",
    "num = PEPSKit.contract_local_tensor((1, 1, 1), M, n3_final, env3_final)\n",
    "denom = PEPSKit._contract_site((1, 1), n3_final, env3_final)\n",
    "m = abs(num / denom)\n",
    "\n",
    "m_ref = 0.667162\n",
    "\n",
    "@show abs(m - m_ref)"
   ],
   "metadata": {},
   "execution_count": null
  },
  {
   "cell_type": "markdown",
   "source": [
    "---\n",
    "\n",
    "*This notebook was generated using [Literate.jl](https://github.com/fredrikekre/Literate.jl).*"
   ],
   "metadata": {}
  }
 ],
 "nbformat_minor": 3,
 "metadata": {
  "language_info": {
   "file_extension": ".jl",
   "mimetype": "application/julia",
   "name": "julia",
   "version": "1.10.4"
  },
  "kernelspec": {
   "name": "julia-1.10",
   "display_name": "Julia 1.10.4",
   "language": "julia"
  }
 },
 "nbformat": 4
}
