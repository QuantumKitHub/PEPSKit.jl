{
 "cells": [
  {
   "outputs": [],
   "cell_type": "code",
   "source": [
    "using Markdown #hide"
   ],
   "metadata": {},
   "execution_count": null
  },
  {
   "cell_type": "markdown",
   "source": [
    "# The 2D classical Ising model using CTMRG\n",
    "\n",
    "While PEPSKit has a lot of use in quantum systems, describing states using InfinitePEPS that can be contracted via CTMRG or boundary MPS techniques, here we shift our focus to classical physics.\n",
    "We consider the 2D classical Ising model and compute its partition function defined as:\n",
    "\n",
    "$$\n",
    "\\mathcal{Z}(\\beta) = \\sum_{\\{s\\}} \\exp(-\\beta H(s)) \\text{ with } H(s) = -J \\sum_{\\langle i, j \\rangle} s_i s_j .\n",
    "$$\n",
    "\n",
    "where the classical spins $s_i \\in \\{+1, -1\\}$ are located on the vertices $i$ of a 2D\n",
    "square lattice. The idea is to encode the partition function as an infinite square network\n",
    "consisting of local rank-4 tensors, which can then be contracted using CTMRG. An infinite\n",
    "square network of these rank-4 tensors can be represented as an\n",
    "`InfinitePartitionFunction` object, as we will see.\n",
    "\n",
    "But first, let's seed the RNG and import all required modules:"
   ],
   "metadata": {}
  },
  {
   "outputs": [],
   "cell_type": "code",
   "source": [
    "using Random, LinearAlgebra\n",
    "using TensorKit, PEPSKit\n",
    "using QuadGK\n",
    "Random.seed!(234923);"
   ],
   "metadata": {},
   "execution_count": null
  },
  {
   "cell_type": "markdown",
   "source": [
    "## Defining the partition function\n",
    "\n",
    "The first step is to define the rank-4 tensor that, when contracted on a square lattice,\n",
    "evaluates to the partition function value at a given $\\beta$. This is done through a\n",
    "[fairly generic procedure](@cite haegeman_diagonalizing_2017) where the interaction weights\n",
    "are distributed among vertex tensors in an appropriate way. Concretely, here we first define\n",
    "a 'link' matrix containing the Boltzmann weights associated to all possible spin\n",
    "configurations across a given link on the lattice. Next, we define site tensors as\n",
    "delta-tensors that ensiure that the spin value on all adjacent links is the same. Since we\n",
    "only want tensors on the sites in the end, we can symmetrically absorb the link weight\n",
    "tensors into the site tensors, which gives us exactly the kind of network we're looking for.\n",
    "Since we later want to compute the magnetization and energy to check our results, we define\n",
    "the appropriate rank-4 tensors here as well while we're at it."
   ],
   "metadata": {}
  },
  {
   "outputs": [],
   "cell_type": "code",
   "source": [
    "function classical_ising(; beta=log(1 + sqrt(2)) / 2, J=1.0)\n",
    "    K = beta * J\n",
    "\n",
    "    # Boltzmann weights\n",
    "    t = ComplexF64[exp(K) exp(-K); exp(-K) exp(K)]\n",
    "    r = eigen(t)\n",
    "    nt = r.vectors * sqrt(Diagonal(r.values)) * r.vectors\n",
    "\n",
    "    # local partition function tensor\n",
    "    O = zeros(2, 2, 2, 2)\n",
    "    O[1, 1, 1, 1] = 1\n",
    "    O[2, 2, 2, 2] = 1\n",
    "    @tensor o[-1 -2; -3 -4] := O[3 4; 2 1] * nt[-3; 3] * nt[-4; 4] * nt[-2; 2] * nt[-1; 1]\n",
    "\n",
    "    # magnetization tensor\n",
    "    M = copy(O)\n",
    "    M[2, 2, 2, 2] *= -1\n",
    "    @tensor m[-1 -2; -3 -4] := M[1 2; 3 4] * nt[-1; 1] * nt[-2; 2] * nt[-3; 3] * nt[-4; 4]\n",
    "\n",
    "    # bond interaction tensor and energy-per-site tensor\n",
    "    e = ComplexF64[-J J; J -J] .* nt\n",
    "    @tensor e_hor[-1 -2; -3 -4] :=\n",
    "        O[1 2; 3 4] * nt[-1; 1] * nt[-2; 2] * nt[-3; 3] * e[-4; 4]\n",
    "    @tensor e_vert[-1 -2; -3 -4] :=\n",
    "        O[1 2; 3 4] * nt[-1; 1] * nt[-2; 2] * e[-3; 3] * nt[-4; 4]\n",
    "    e = e_hor + e_vert\n",
    "\n",
    "    # fixed tensor map space for all three\n",
    "    TMS = ℂ^2 ⊗ ℂ^2 ← ℂ^2 ⊗ ℂ^2\n",
    "\n",
    "    return TensorMap(o, TMS), TensorMap(m, TMS), TensorMap(e, TMS)\n",
    "end;"
   ],
   "metadata": {},
   "execution_count": null
  },
  {
   "cell_type": "markdown",
   "source": [
    "So let's initialize these tensors at inverse temperature $\\beta=0.6$, check that\n",
    "they are indeed rank-4 and construct the corresponding `InfinitePartitionFunction`:"
   ],
   "metadata": {}
  },
  {
   "outputs": [],
   "cell_type": "code",
   "source": [
    "beta = 0.6\n",
    "O, M, E = classical_ising(; beta)\n",
    "@show space(O)\n",
    "Z = InfinitePartitionFunction(O)"
   ],
   "metadata": {},
   "execution_count": null
  },
  {
   "cell_type": "markdown",
   "source": [
    "## Contracting the partition function\n",
    "\n",
    "Next, we can contract the partition function as per usual by constructing a `CTMRGEnv` with\n",
    "a specified environment virtual space and calling `leading_boundary` with appropriate\n",
    "settings:"
   ],
   "metadata": {}
  },
  {
   "outputs": [],
   "cell_type": "code",
   "source": [
    "Venv = ℂ^20\n",
    "env₀ = CTMRGEnv(Z, Venv)\n",
    "env, = leading_boundary(env₀, Z; tol=1e-8, maxiter=500);"
   ],
   "metadata": {},
   "execution_count": null
  },
  {
   "cell_type": "markdown",
   "source": [
    "Note that CTMRG environments for partition functions differ from the PEPS environments only\n",
    "by the edge tensors. Instead of two legs connecting the edges and the PEPS-PEPS sandwich,\n",
    "there is only one leg connecting the edges and the partition function tensor, meaning that\n",
    "the edge tensors are now rank-3:"
   ],
   "metadata": {}
  },
  {
   "outputs": [],
   "cell_type": "code",
   "source": [
    "space.(env.edges)"
   ],
   "metadata": {},
   "execution_count": null
  },
  {
   "cell_type": "markdown",
   "source": [
    "To compute the value of the partition function, we have to contract `Z` with the converged\n",
    "environment using `network_value`. Additionally, we will compute the magnetization\n",
    "and energy (per site), again using `expectation_value` but this time also specifying\n",
    "the index in the unit cell where we want to insert the local tensor:"
   ],
   "metadata": {}
  },
  {
   "outputs": [],
   "cell_type": "code",
   "source": [
    "λ = network_value(Z, env)\n",
    "m = expectation_value(Z, (1, 1) => M, env)\n",
    "e = expectation_value(Z, (1, 1) => E, env)\n",
    "@show λ m e;"
   ],
   "metadata": {},
   "execution_count": null
  },
  {
   "cell_type": "markdown",
   "source": [
    "## Comparing against the exact Onsager solution\n",
    "\n",
    "In order to assess our results, we will compare against the\n",
    "[exact Onsager solution](https://en.wikipedia.org/wiki/Square_lattice_Ising_model#Exact_solution)\n",
    "of the 2D classical Ising model. To that end, we compute the exact free energy,\n",
    "magnetization and energy per site (where we use `quadgk` to perform integrals of an\n",
    "auxiliary variable from $0$ to $\\pi/2$):"
   ],
   "metadata": {}
  },
  {
   "outputs": [],
   "cell_type": "code",
   "source": [
    "function classical_ising_exact(; beta=log(1 + sqrt(2)) / 2, J=1.0)\n",
    "    K = beta * J\n",
    "\n",
    "    k = 1 / sinh(2 * K)^2\n",
    "    F = quadgk(\n",
    "        theta -> log(cosh(2 * K)^2 + 1 / k * sqrt(1 + k^2 - 2 * k * cos(2 * theta))), 0, pi\n",
    "    )[1]\n",
    "    f = -1 / beta * (log(2) / 2 + 1 / (2 * pi) * F)\n",
    "\n",
    "    m = 1 - (sinh(2 * K))^(-4) > 0 ? (1 - (sinh(2 * K))^(-4))^(1 / 8) : 0\n",
    "\n",
    "    E = quadgk(theta -> 1 / sqrt(1 - (4 * k) * (1 + k)^(-2) * sin(theta)^2), 0, pi / 2)[1]\n",
    "    e = -J * cosh(2 * K) / sinh(2 * K) * (1 + 2 / pi * (2 * tanh(2 * K)^2 - 1) * E)\n",
    "\n",
    "    return f, m, e\n",
    "end\n",
    "\n",
    "f_exact, m_exact, e_exact = classical_ising_exact(; beta);"
   ],
   "metadata": {},
   "execution_count": null
  },
  {
   "cell_type": "markdown",
   "source": [
    "And indeed, we do find agreement between the exact and CTMRG values (keeping in mind that\n",
    "energy accuracy is limited by the environment dimension and the lack of proper\n",
    "extrapolation):"
   ],
   "metadata": {}
  },
  {
   "outputs": [],
   "cell_type": "code",
   "source": [
    "@show (-log(λ) / beta - f_exact) / f_exact\n",
    "@show (abs(m) - abs(m_exact)) / abs(m_exact)\n",
    "@show (e - e_exact) / e_exact;"
   ],
   "metadata": {},
   "execution_count": null
  },
  {
   "cell_type": "markdown",
   "source": [
    "---\n",
    "\n",
    "*This notebook was generated using [Literate.jl](https://github.com/fredrikekre/Literate.jl).*"
   ],
   "metadata": {}
  }
 ],
 "nbformat_minor": 3,
 "metadata": {
  "language_info": {
   "file_extension": ".jl",
   "mimetype": "application/julia",
   "name": "julia",
   "version": "1.10.4"
  },
  "kernelspec": {
   "name": "julia-1.10",
   "display_name": "Julia 1.10.4",
   "language": "julia"
  }
 },
 "nbformat": 4
}
